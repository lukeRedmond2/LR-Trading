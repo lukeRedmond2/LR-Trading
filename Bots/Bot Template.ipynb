{
 "cells": [
  {
   "cell_type": "markdown",
   "metadata": {},
   "source": [
    "# **_Bot Template_**\n",
    "\n",
    "**_A step by step walkthrough of the backtesting process. Shouldn't be touched._**"
   ]
  },
  {
   "cell_type": "markdown",
   "metadata": {},
   "source": [
    "## **_Libraries_**"
   ]
  },
  {
   "cell_type": "code",
   "execution_count": 1,
   "metadata": {},
   "outputs": [],
   "source": [
    "# Keys\n",
    "from __Alpaca_API_Keys__ import *\n",
    "\n",
    "# Trading\n",
    "from alpaca.trading.client import TradingClient\n",
    "from alpaca.trading.requests import MarketOrderRequest, GetOrdersRequest\n",
    "from alpaca.trading.enums import OrderSide, OrderType, TimeInForce\n",
    "\n",
    "# Time \n",
    "import datetime\n",
    "import threading\n",
    "import time\n",
    "import pytz\n",
    "\n",
    "# Data\n",
    "import numpy as np\n",
    "import pandas as pd\n",
    "import yfinance as yf\n",
    "\n",
    "# Web-Scraping\n",
    "from bs4 import BeautifulSoup as bs\n",
    "import requests\n",
    "\n",
    "# Recording\n",
    "import plotly.graph_objects as go\n",
    "import logging"
   ]
  },
  {
   "cell_type": "markdown",
   "metadata": {},
   "source": [
    "## **_Initial Setup_**\n",
    "\n",
    "### **_Logging setup:_**\n",
    "\n",
    "**_Level: Info, not serious_**\n",
    "\n",
    "**_Filename: Reference to log file_**\n",
    "\n",
    "**_Filemode: Append each message_**\n",
    "\n",
    "**_Format: \"Date\": \"Message\"_**\n",
    "\n",
    "### **_Client setup:_**\n",
    "\n",
    "**_TradingClient function_**\n",
    "\n",
    "**_Use key and secret key_**"
   ]
  },
  {
   "cell_type": "code",
   "execution_count": 2,
   "metadata": {},
   "outputs": [],
   "source": [
    "logging.basicConfig(level=logging.INFO,\n",
    "                    filename=\"c:/users/redmo/Desktop/Trading/Logs/Template 18-05-24.log\",\n",
    "                    filemode=\"a\",\n",
    "                    format=\"%(asctime)s - %(message)s\", datefmt='%d-%b-%y %H:%M:%S')\n",
    "\n",
    "client = TradingClient(API_KEY, SECRET_KEY)"
   ]
  },
  {
   "cell_type": "markdown",
   "metadata": {},
   "source": [
    "## **_Trading Bot and Threader_**\n",
    "\n",
    "### **_Docstring:_**\n",
    "\n",
    "**_\"Title\" Double tag_**\n",
    "\n",
    "**_\"Description:\" Triple tag. Brief description of function._**\n",
    "\n",
    "**_\"Args:\" Triple tag. name, type, description_**\n",
    "\n",
    "**_\"Methods:\" Triple tag. name, description_**\n",
    "\n",
    "### **_Bot Code:_**\n",
    "\n",
    "**_Init: Establish class atributes_**\n",
    "\n",
    "**_Features: Default features, Strategy features, Time features_**\n",
    "\n",
    "**_Bot: Time setup, Sleep, Webscraping, Data, Orders, Strategy, History, While loop_**\n",
    "\n",
    "**_Plotting: Data, Trades, Time, Cleaning, Traces, Layout_**\n",
    "\n",
    "### **_Threader Code:_**\n",
    "\n",
    "**_Creating threads for each bot_**\n",
    "\n",
    "**_Joining all threads_**"
   ]
  },
  {
   "cell_type": "code",
   "execution_count": 53,
   "metadata": {},
   "outputs": [],
   "source": [
    "class Trading:\n",
    "    \"\"\"\n",
    "    ## The Trading Class\n",
    "\n",
    "    ### Description:\n",
    "    This class allows the user to create multiple \"bots\" which can be used\n",
    "    to run various strategies. You can initiate a trading session using the\n",
    "    bot method which runs a chosen strategy until a specified time.\n",
    "\n",
    "    You can also inspect the trades made by a bot by using the plotting \n",
    "    method which gives a detailed view of all the trades in relation to the\n",
    "    price and various indicators.\n",
    "\n",
    "    If you want to change the strategy used, you would have to physically\n",
    "    change the code in the Data and Strategy functions within the Bot method.\n",
    "    You might also have to change the Orders function, the logging messages,\n",
    "    the Features method and the Plotting method too as it \n",
    "    only has BBands indicators by default.\n",
    "\n",
    "    ### Args:\n",
    "        - client (alpaca trading client): Trading client linking to your Alpaca account\n",
    "        - symbol (string): The stock symbol you wish to trade on\n",
    "        - moving_average (int): The moving average window\n",
    "        - standard_deviation (float): The coefficient for the standard deviation\n",
    "        - quantity (int): The number of stocks you want to buy or sell at a time\n",
    "        - timeframe (int): Your chosen trading timeframe in seconds\n",
    "\n",
    "    ### Methods:\n",
    "        - Features: Prints out all attributes and details about your trading object\n",
    "        - Bot: Runs a chosen strategy based on given parameters\n",
    "        - Plotting: Returns a plot of all trades made while your object was running\n",
    "        \n",
    "    ### Notes:\n",
    "    The default strategy used in the Bot method is Bollinger Bands. This\n",
    "    must be changed manually. The Plotting method is also built around a\n",
    "    Bollinger Bands strategy so this also must be considered if you wish\n",
    "    to change the strategy.\n",
    "    \"\"\"\n",
    "    \n",
    "    def __init__(self, client, symbol, moving_average, standard_deviation, quantity, timeframe):\n",
    "        self.cl = client\n",
    "        self.sb = symbol\n",
    "        self.ma = moving_average\n",
    "        self.sd = standard_deviation\n",
    "        self.qt = quantity\n",
    "        self.tf = timeframe\n",
    "        print(f\"{self.sb} Trading Bot\")\n",
    "        print(f\"MA: {self.ma}, SD: {self.sd}\")\n",
    "        print(\"Initialised\")\n",
    "        print(\"\")\n",
    "\n",
    "    def Features(self):\n",
    "        \"\"\"\n",
    "        ## Features\n",
    "\n",
    "        ### Description:\n",
    "        A method to print all current attributes and details about the bot\n",
    "        you've created. Should be changed depending on chosen strategy to \n",
    "        print relevant information\n",
    "\n",
    "        ### Args:\n",
    "        - self (instance): Instance of the class\n",
    "        \n",
    "        ### Returns:\n",
    "        - None\n",
    "        \"\"\"\n",
    "\n",
    "        # Default features\n",
    "        print(f\"Client:                  {self.cl}\")\n",
    "        print(f\"Symbol:                  {self.sb}\")\n",
    "        print(f\"Quantity:                {self.qt}\")\n",
    "        print(f\"Timeframe:               {self.tf}\")\n",
    "\n",
    "        # Strategy dependant features\n",
    "        print(f\"Moving Average:          {self.ma}\")\n",
    "        print(f\"Standard Deviation:      {self.sd}\")\n",
    "\n",
    "        # Time dependant features\n",
    "        try:\n",
    "            print(f\"Trade count:             {len(self.tr)}\")\n",
    "            print(f\"Beginning of Bot:        {len(self.bg)}\")\n",
    "            print(f\"Revolution count:        {len(self.cb)}\")\n",
    "            print(f\"Active revolution count: {len(self.cb.loc[self.bg:])}\")\n",
    "        except Exception as e:\n",
    "            pass\n",
    "\n",
    "    def Bot(self, stop_time, cancel, logger):\n",
    "        \"\"\"\n",
    "        ## Bot\n",
    "\n",
    "        ### Description:\n",
    "        A method to run a strategy which places trades using the Alpaca API.\n",
    "        First, close data is webscraped from Yahoo Finance. It's then ordered\n",
    "        into a dataframe. A specific strategy is then ran on the data. The \n",
    "        trades are then recorded in the History function.\n",
    "\n",
    "        ### Args: \n",
    "            - self (instance): Instance of the class\n",
    "            - stop_time (string): A structured datetime string in the format \"Y-m-d H:M:S\"\n",
    "            - cancel (bool): A Bool which determines if all positions should be canceled once the bot finishes\n",
    "            - logger (module): Logger object to monitor script status\n",
    "\n",
    "        ### Returns:\n",
    "            - None\n",
    "        \"\"\"\n",
    "\n",
    "        # Set start to today's market open. Could probably be done in one line in future.\n",
    "        current = datetime.datetime.now()\n",
    "        beginning = f\"{current.year}-{current.month}-{current.day} {current.hour}:{current.minute}:{current.second}\"\n",
    "        beginning = datetime.datetime.strptime(beginning, \"%Y-%m-%d %H:%M:%S\")\n",
    "\n",
    "        # Setting timezone to UTC\n",
    "        timezone = pytz.timezone(\"Europe/Dublin\")\n",
    "        beginning = timezone.localize(beginning)\n",
    "        self.bg = beginning\n",
    "\n",
    "        # Set the stop time\n",
    "        stop_time = datetime.datetime.strptime(stop_time, \"%Y-%m-%d %H:%M:%S\")\n",
    "        stop_time = timezone.localize(stop_time)\n",
    "        self.st = stop_time\n",
    "\n",
    "        # Other attributes\n",
    "        self.cp = cancel\n",
    "        self.lg = logger\n",
    "\n",
    "        # Functions\n",
    "        def Sleep(self):\n",
    "            \"\"\"\n",
    "            ## Sleep\n",
    "\n",
    "            ### Description:\n",
    "            A function that calculates number of seconds until the next minute.\n",
    "\n",
    "            ### Args:\n",
    "                - self (instance): Instance of the class\n",
    "\n",
    "            ### Returns:\n",
    "                - sleep (float): Number of seconds until next minute\n",
    "            \"\"\"\n",
    "\n",
    "            # Calculating seconds until next interval\n",
    "            current = time.time()\n",
    "            sleep = self.tf - (current % self.tf)\n",
    "            return sleep\n",
    "        \n",
    "        def Webscraping(self):\n",
    "            \"\"\"\n",
    "            ## Webscraping\n",
    "\n",
    "            ### Description:\n",
    "            A function to webscrape real-time close data from the Yahoo Finance website.\n",
    "\n",
    "            ### Args:\n",
    "                - self (instance): Instance of the class\n",
    "\n",
    "            ### Returns:\n",
    "                - price (float): Real-time close price\n",
    "            \"\"\"\n",
    "\n",
    "            # Initialising vars to access Yahoo Finance\n",
    "            headers = {\"User-Agent\": \"Mozilla/5.0 (Windows NT 10.0; Win64; x64) AppleWebKit/537.36 (KHTML, like Gecko) Chrome/116.0.0.0 Safari/537.36\"}\n",
    "            url = f\"https://finance.yahoo.com/quote/{self.sb}\"\n",
    "\n",
    "            # Extracting HTML code\n",
    "            request = requests.get(url, headers=headers)\n",
    "            self.lg.info(f\"{self.sb}: WS: Request made\")\n",
    "            htmlcode = bs(request.text, \"html.parser\")\n",
    "            self.lg.info(f\"{self.sb}: WS: Code gathered\")\n",
    "\n",
    "            # Parsing the code to find the current price\n",
    "            price = float(htmlcode.find(\"fin-streamer\", {\"class\": \"livePrice svelte-mgkamr\"}).text.replace(',', ''))\n",
    "            self.lg.info(f\"{self.sb}: WS: Price created {price}\")\n",
    "\n",
    "            return price\n",
    "\n",
    "        def Data(self, price, previous):\n",
    "            \"\"\"\n",
    "            ## Data\n",
    "\n",
    "            ### Description:\n",
    "            A function that takes the previous webscraped data and most recent addition and combines\n",
    "            them. The data is then used to create specific features and parameters used in the chosen\n",
    "            strategy.\n",
    "\n",
    "            ### Args:\n",
    "                - self (instance): Instance of the class\n",
    "                - price (float): Real-time close price\n",
    "                - previous (df): All price data and specific features accumulated while running\n",
    "                \n",
    "            ### Returns:\n",
    "                - combined (df): \"previous\" df combined with new price data. Becomes \"previous\" df in\n",
    "                next iteration\n",
    "            \"\"\"\n",
    "            \n",
    "            # Getting current time info for the dataframe index\n",
    "            current = datetime.datetime.now(pytz.timezone(\"Europe/Dublin\"))\n",
    "            self.lg.info(f\"{self.sb}: DT: Date created {current}\")\n",
    "            \n",
    "            try:\n",
    "                # Assembling the price and feature dataframe\n",
    "                dataframe = pd.DataFrame({\"Price\": price}, index=[current])\n",
    "                combined = pd.concat([previous, dataframe])\n",
    "                self.lg.info(f\"{self.sb}: DT: Combined created\")\n",
    "            except Exception as e:\n",
    "                print(f\"Data ERROR: {e}\")\n",
    "                return previous\n",
    "\n",
    "            # Creating feature columns for the chosen strategy\n",
    "            combined[\"Moving Average\"] = combined[\"Price\"].rolling(self.ma).mean()\n",
    "            combined[\"Standard Deviation\"] = combined[\"Price\"].rolling(self.ma).std()\n",
    "            combined[\"Upper Band\"] = combined[\"Moving Average\"] + (self.sd * combined[\"Standard Deviation\"])\n",
    "            combined[\"Lower Band\"] = combined[\"Moving Average\"] - (self.sd * combined[\"Standard Deviation\"])\n",
    "\n",
    "            return combined\n",
    "            \n",
    "        def Orders(self, side):\n",
    "            \"\"\"\n",
    "            ## Orders\n",
    "\n",
    "            ### Description:\n",
    "            A function to send orders to the Alpaca website.\n",
    "\n",
    "            ### Args:\n",
    "                - self (instance): Instance of the class\n",
    "                - side (OrderSide): order to buy or sell\n",
    "\n",
    "            ### Returns:\n",
    "                - None\n",
    "            \"\"\"\n",
    "\n",
    "            # Order bracket\n",
    "            order_data = MarketOrderRequest(\n",
    "                symbol=self.sb,\n",
    "                qty=self.qt,\n",
    "                side=side,\n",
    "                type=OrderType.MARKET,\n",
    "                time_in_force=TimeInForce.GTC)\n",
    "            self.lg.info(f\"{self.sb}: OD: Order Bracket created\")\n",
    "\n",
    "            # Submitting the order bracket\n",
    "            self.cl.submit_order(order_data=order_data)\n",
    "            self.lg.info(f\"{self.sb}: OD: Order submitted\")\n",
    "\n",
    "        def Strategy(self, combined):\n",
    "            \"\"\"\n",
    "            ## Strategy\n",
    "\n",
    "            ### Description:\n",
    "            A function to check whether the strategy's conditions have been met. If so,\n",
    "            an order is sent using the \"Orders\" function.\n",
    "\n",
    "            ### Args:\n",
    "                - self (instance): Instance of the class\n",
    "                - combined (df): Df of all strategy features\n",
    "\n",
    "            ### Returns:\n",
    "                - None\n",
    "            \"\"\"\n",
    "\n",
    "            # Condition 1: If the close price is above the upperband, Sell\n",
    "            if combined[\"Price\"].iloc[-1] > combined[\"Upper Band\"].iloc[-1]:\n",
    "                Orders(self, OrderSide.SELL)\n",
    "                print(\"Sold\")\n",
    "                self.lg.info(f\"{self.sb}: ST: Sell\")\n",
    "            \n",
    "            # Condition 2: If the close price is below the lowerband, Buy\n",
    "            elif combined[\"Price\"].iloc[-1] < combined[\"Lower Band\"].iloc[-1]:\n",
    "                Orders(self, OrderSide.BUY)\n",
    "                print(\"Bought\")\n",
    "                self.lg.info(f\"{self.sb}: ST: Buy\")\n",
    "\n",
    "        def History(self, previous):\n",
    "            \"\"\"\n",
    "            ## History\n",
    "\n",
    "            ### Description:\n",
    "            A function to gather and record trades made while running\n",
    "\n",
    "            ### Args:\n",
    "                - self (instance): Instance of the class\n",
    "                - previous (df): All trades accumulated and recorded while running\n",
    "\n",
    "            ### Returns:\n",
    "                - trades (df): Combined dataframe of the most recent trade and all \n",
    "                previous trades recorded while running \n",
    "            \"\"\"\n",
    "\n",
    "            # Getting 50 most recent orders\n",
    "            orders = self.cl.get_orders(filter=GetOrdersRequest(status=\"closed\", symbols=[self.sb]))\n",
    "            self.lg.info(f\"{self.sb}: HT: Order data gathered\")\n",
    "            self.lg.info(f\"{self.sb}: HT: Orders length: {len(orders)}\")\n",
    "\n",
    "            # Extracting specifics from most recent trade\n",
    "            if len(orders) > 0:\n",
    "                fill = orders[0].filled_avg_price\n",
    "                time = orders[0].filled_at\n",
    "                side = orders[0].side\n",
    "            else:\n",
    "                fill = None\n",
    "                time = None\n",
    "                side = None\n",
    "\n",
    "            # Converting time to UTC\n",
    "            if time is not None:\n",
    "                time = time.astimezone(pytz.timezone(\"Europe/Dublin\"))\n",
    "\n",
    "            # Converting the fill price from a string to a float\n",
    "            if fill is not None:\n",
    "                self.lg.info(f\"{self.sb}: HT: Fill is a number: {fill}\")\n",
    "                fill = float(fill)\n",
    "\n",
    "            # Creating data for plotting based on the trade\n",
    "            if side == OrderSide.BUY:\n",
    "                colour = \"green\"\n",
    "                marker = \"triangle-up\"\n",
    "            elif side == OrderSide.SELL:\n",
    "                colour = \"red\"\n",
    "                marker = \"triangle-down\"\n",
    "            else:\n",
    "                colour = None\n",
    "                marker = None\n",
    "\n",
    "            # Creating a dataframe to store trade data\n",
    "            trade = pd.DataFrame(dict({\"Avg Fill Price\":fill, \"Side\":side, \"Colour\":colour, \"Marker\":marker}), index=[time])\n",
    "            self.lg.info(f\"{self.sb}: HT: Trade dataframe created\")\n",
    "\n",
    "            # Combining the previous trades and most recent trade\n",
    "            trades = pd.concat([previous, trade])\n",
    "            self.lg.info(f\"{self.sb}: HT: Trade dataframe combined\")\n",
    "\n",
    "            # Removing duplicate if present\n",
    "            trades = trades.drop_duplicates(keep=\"last\")\n",
    "            self.lg.info(f\"{self.sb}: HT: Duplicates removed\")\n",
    "\n",
    "            return trades\n",
    "\n",
    "        # Placeholders\n",
    "        combined = pd.DataFrame()\n",
    "        trades = pd.DataFrame()\n",
    "\n",
    "        self.lg.info(f\"{self.sb}: Bot Initialised\")\n",
    "\n",
    "        # trading loop until stoptime\n",
    "        while datetime.datetime.now(pytz.timezone(\"Europe/Dublin\")) < stop_time:\n",
    "\n",
    "            # Sleeping until next interval in chosen timeframe\n",
    "            time.sleep(Sleep(self))\n",
    "            \n",
    "            # Webscraping close data from the Yahoo Finance website\n",
    "            try:\n",
    "                price = Webscraping(self)\n",
    "            except Exception as e:\n",
    "                self.lg.error(f\"{self.sb}: Webscraping ERROR: {e}\", exc_info=True)\n",
    "                print(f\"{self.sb}, {datetime.datetime.now()}: Webscraping ERROR\", e)\n",
    "\n",
    "            # Creating features for chosen strategy\n",
    "            try:\n",
    "                combined = Data(self, price, combined)\n",
    "            except Exception as e:\n",
    "                self.lg.error(f\"{self.sb}: Data ERROR: {e}\", exc_info=True)\n",
    "                print(f\"{self.sb}, {datetime.datetime.now()}: Data ERROR:\", e)\n",
    "        \n",
    "            # Submitting orders if conditions are met on calculated features\n",
    "            try:\n",
    "                Strategy(self, combined)\n",
    "            except Exception as e:\n",
    "                self.lg.error(f\"{self.sb}: Strategy ERROR: {e}\", exc_info=True)\n",
    "                print(f\"{self.sb}, {datetime.datetime.now()}: Strategy ERROR:\", e)\n",
    "\n",
    "            # Recording trades if any were made\n",
    "            try:\n",
    "                trades = History(self, trades)\n",
    "            except Exception as e:\n",
    "                self.lg.error(f\"{self.sb}: History ERROR: {e}\", exc_info=True)\n",
    "                print(f\"{self.sb}, {datetime.datetime.now()}: History ERROR:\", e)\n",
    "\n",
    "        # Updating attributes with most recent data\n",
    "        self.cb = combined\n",
    "        self.tr = trades\n",
    "\n",
    "        # Closing positions if True\n",
    "        if self.cp == True:\n",
    "            self.cl.close_all_positions(cancel_orders=True)\n",
    "\n",
    "    def Plotting(self, interval=\"1m\"):\n",
    "        \"\"\"\n",
    "        ## Plotting\n",
    "\n",
    "        ### Description:\n",
    "        A method to display the trades made throughout the day and chosen\n",
    "        indicators. Must change the indicators yourself however.\n",
    "\n",
    "        ### Args:\n",
    "        - self (instance): Instance of the class\n",
    "        - interval (string): OHLC timeframe can only be the following:\n",
    "            [1m, 2m, 5m, 15m, 30m, 60m, 90m, 1h, 1d, 5d, 1wk, 1mo, 3mo]\n",
    "\n",
    "        ### Returns:\n",
    "        - fig (plotly figure): The created figure of trades, indicators etc.\n",
    "        \"\"\"\n",
    "\n",
    "        # Gather OHLC data first\n",
    "        ohlc = yf.Ticker(self.sb)\n",
    "        ohlc = ohlc.history(period=\"5d\", interval=interval)\n",
    "        ohlc.index = ohlc.index.tz_convert(\"Europe/Dublin\")\n",
    "\n",
    "        # Check trades\n",
    "        trades = self.tr[self.tr.index.notna()]\n",
    "\n",
    "        # Setting the market open time\n",
    "        timezone = pytz.timezone(\"Europe/Dublin\")\n",
    "        current = datetime.datetime.now()\n",
    "        mkop = f\"{current.year}-{current.month}-{current.day} 14:30:00\"\n",
    "        mkop = datetime.datetime.strptime(mkop, \"%Y-%m-%d %H:%M:%S\")\n",
    "        mkop = timezone.localize(mkop)\n",
    "\n",
    "        # Clearing irrelevant data based on the market open\n",
    "        if self.bg < mkop:\n",
    "            trades = trades.loc[mkop:]\n",
    "            indicators = self.cb.loc[mkop:]\n",
    "            ohlc = ohlc.loc[mkop:]\n",
    "\n",
    "        # Clearing irrelevant data based on the bot beginning\n",
    "        elif self.bg > mkop:\n",
    "            trades = trades.loc[self.bg:]\n",
    "            indicators = self.cb.loc[self.bg:]\n",
    "            ohlc = ohlc.loc[self.bg:]\n",
    "\n",
    "        # Creating a figure\n",
    "        fig = go.Figure()\n",
    "\n",
    "        # Plotting the trades using a scatter\n",
    "        fig.add_trace(go.Scatter(x=trades.index,\n",
    "                                 y=trades[\"Avg Fill Price\"],\n",
    "                                 mode=\"markers\",\n",
    "                                 name=\"Buys + Sells\",\n",
    "                                 marker=dict(color=trades[\"Colour\"], size=20, symbol=trades[\"Marker\"])))\n",
    "        \n",
    "        # Plotting the close prices we collected through webscraping\n",
    "        fig.add_trace(go.Scatter(x=indicators.index,\n",
    "                                 y=indicators[\"Price\"],\n",
    "                                 mode=\"lines+markers\",\n",
    "                                 name=\"Price\"))\n",
    "        \n",
    "        # Plotting the Moving Average using a line plot\n",
    "        fig.add_trace(go.Scatter(x=indicators.index,\n",
    "                                 y=indicators[\"Moving Average\"],\n",
    "                                 mode=\"lines\",\n",
    "                                 name=\"Moving Average\"))\n",
    "        \n",
    "        # Plotting the Upper Band using a line plot\n",
    "        fig.add_trace(go.Scatter(x=indicators.index,\n",
    "                                 y=indicators[\"Upper Band\"],\n",
    "                                 mode=\"lines\",\n",
    "                                 name=\"Upper Band\"))\n",
    "        \n",
    "        # Plotting the Lower Band using a line plot\n",
    "        fig.add_trace(go.Scatter(x=indicators.index,\n",
    "                                 y=indicators[\"Lower Band\"],\n",
    "                                 mode=\"lines\",\n",
    "                                 name=\"Lower Band\"))\n",
    "        \n",
    "        # Plotting the OHLC data using candlesticks\n",
    "        fig.add_trace(go.Candlestick(x=ohlc.index,\n",
    "                                     open=ohlc[\"Open\"],\n",
    "                                     high=ohlc[\"High\"],\n",
    "                                     low=ohlc[\"Low\"],\n",
    "                                     close=ohlc[\"Close\"],\n",
    "                                     name=\"OHLC\"))\n",
    "        \n",
    "        # Updating the layout of the plot\n",
    "        fig.update_layout(xaxis_rangeslider_visible=False, height=700,\n",
    "                          paper_bgcolor=\"rgba(70,70,70,1)\",\n",
    "                          plot_bgcolor=\"rgba(230,230,230,1)\",\n",
    "                          xaxis=dict(title=\"Date & Time\",\n",
    "                                     tickfont=dict(color=\"white\"),\n",
    "                                     titlefont=dict(color=\"white\"),\n",
    "                                     gridcolor=\"rgba(0,0,0,0.1)\", gridwidth=2),\n",
    "                          yaxis=dict(title=\"Price\",\n",
    "                                     tickfont=dict(color=\"rgba(230,230,230,1)\"),\n",
    "                                     titlefont=dict(color=\"rgba(230,230,230,1)\"),\n",
    "                                     gridcolor=\"rgba(0,0,0,0.1)\", gridwidth=2),\n",
    "                          shapes = [go.layout.Shape(type='rect',\n",
    "                                                    xref='paper',\n",
    "                                                    yref='paper',\n",
    "                                                    x0=0,\n",
    "                                                    y0=0,\n",
    "                                                    x1=1,\n",
    "                                                    y1=1,\n",
    "                                                    line={'width': 3, 'color': 'black'})],\n",
    "                          legend=dict(font=dict(color=\"rgba(230,230,230,1)\")))\n",
    "                             \n",
    "\n",
    "        # Displaying and returning the final figure\n",
    "        fig.show()\n",
    "        return fig"
   ]
  },
  {
   "cell_type": "code",
   "execution_count": 54,
   "metadata": {},
   "outputs": [],
   "source": [
    "def Threader(*instances, stop_time, cancel, logger):\n",
    "    threads = []\n",
    "\n",
    "    # Creating a thread for each given bot\n",
    "    for instance in instances:\n",
    "        thread = threading.Thread(target=instance.Bot, args=(stop_time, cancel, logger))\n",
    "        threads.append(thread)\n",
    "        thread.start()\n",
    "\n",
    "    # Joining of threads\n",
    "    for thread in threads:\n",
    "        thread.join()"
   ]
  },
  {
   "cell_type": "markdown",
   "metadata": {},
   "source": [
    "## **_Runnning The Bots_**"
   ]
  },
  {
   "cell_type": "code",
   "execution_count": 55,
   "metadata": {},
   "outputs": [
    {
     "name": "stdout",
     "output_type": "stream",
     "text": [
      "AAPL Trading Bot\n",
      "MA: 20, SD: 1.0\n",
      "Initialised\n",
      "\n",
      "AMZN Trading Bot\n",
      "MA: 40, SD: 1.5\n",
      "Initialised\n",
      "\n"
     ]
    }
   ],
   "source": [
    "AAPL_Bot = Trading(client, \"AAPL\", 20, 1.0, 1, 60)\n",
    "AMZN_Bot = Trading(client, \"AMZN\", 40, 1.5, 1, 60)"
   ]
  },
  {
   "cell_type": "code",
   "execution_count": 56,
   "metadata": {},
   "outputs": [],
   "source": [
    "Threader(AAPL_Bot, AMZN_Bot, stop_time=\"2024-05-18 22:22:00\", cancel=True, logger=logging)"
   ]
  },
  {
   "cell_type": "markdown",
   "metadata": {},
   "source": [
    "## **_Plotting And Examining Results_**"
   ]
  },
  {
   "cell_type": "code",
   "execution_count": 58,
   "metadata": {},
   "outputs": [
    {
     "name": "stdout",
     "output_type": "stream",
     "text": [
      "2024-05-18 14:30:00+01:00\n",
      "Europe/Dublin\n"
     ]
    },
    {
     "data": {
      "application/vnd.plotly.v1+json": {
       "config": {
        "plotlyServerURL": "https://plot.ly"
       },
       "data": [
        {
         "marker": {
          "color": [],
          "size": 20,
          "symbol": []
         },
         "mode": "markers",
         "name": "Buys + Sells",
         "type": "scatter",
         "x": [],
         "y": []
        },
        {
         "mode": "lines+markers",
         "name": "Price",
         "type": "scatter",
         "x": [
          "2024-05-18T22:22:01.850197+01:00"
         ],
         "y": [
          189.87
         ]
        },
        {
         "mode": "lines",
         "name": "Moving Average",
         "type": "scatter",
         "x": [
          "2024-05-18T22:22:01.850197+01:00"
         ],
         "y": [
          null
         ]
        },
        {
         "mode": "lines",
         "name": "Upper Band",
         "type": "scatter",
         "x": [
          "2024-05-18T22:22:01.850197+01:00"
         ],
         "y": [
          null
         ]
        },
        {
         "mode": "lines",
         "name": "Lower Band",
         "type": "scatter",
         "x": [
          "2024-05-18T22:22:01.850197+01:00"
         ],
         "y": [
          null
         ]
        },
        {
         "close": [],
         "high": [],
         "low": [],
         "name": "OHLC",
         "open": [],
         "type": "candlestick",
         "x": []
        }
       ],
       "layout": {
        "height": 700,
        "legend": {
         "font": {
          "color": "rgba(230,230,230,1)"
         }
        },
        "paper_bgcolor": "rgba(70,70,70,1)",
        "plot_bgcolor": "rgba(230,230,230,1)",
        "shapes": [
         {
          "line": {
           "color": "black",
           "width": 3
          },
          "type": "rect",
          "x0": 0,
          "x1": 1,
          "xref": "paper",
          "y0": 0,
          "y1": 1,
          "yref": "paper"
         }
        ],
        "template": {
         "data": {
          "bar": [
           {
            "error_x": {
             "color": "#2a3f5f"
            },
            "error_y": {
             "color": "#2a3f5f"
            },
            "marker": {
             "line": {
              "color": "#E5ECF6",
              "width": 0.5
             },
             "pattern": {
              "fillmode": "overlay",
              "size": 10,
              "solidity": 0.2
             }
            },
            "type": "bar"
           }
          ],
          "barpolar": [
           {
            "marker": {
             "line": {
              "color": "#E5ECF6",
              "width": 0.5
             },
             "pattern": {
              "fillmode": "overlay",
              "size": 10,
              "solidity": 0.2
             }
            },
            "type": "barpolar"
           }
          ],
          "carpet": [
           {
            "aaxis": {
             "endlinecolor": "#2a3f5f",
             "gridcolor": "white",
             "linecolor": "white",
             "minorgridcolor": "white",
             "startlinecolor": "#2a3f5f"
            },
            "baxis": {
             "endlinecolor": "#2a3f5f",
             "gridcolor": "white",
             "linecolor": "white",
             "minorgridcolor": "white",
             "startlinecolor": "#2a3f5f"
            },
            "type": "carpet"
           }
          ],
          "choropleth": [
           {
            "colorbar": {
             "outlinewidth": 0,
             "ticks": ""
            },
            "type": "choropleth"
           }
          ],
          "contour": [
           {
            "colorbar": {
             "outlinewidth": 0,
             "ticks": ""
            },
            "colorscale": [
             [
              0,
              "#0d0887"
             ],
             [
              0.1111111111111111,
              "#46039f"
             ],
             [
              0.2222222222222222,
              "#7201a8"
             ],
             [
              0.3333333333333333,
              "#9c179e"
             ],
             [
              0.4444444444444444,
              "#bd3786"
             ],
             [
              0.5555555555555556,
              "#d8576b"
             ],
             [
              0.6666666666666666,
              "#ed7953"
             ],
             [
              0.7777777777777778,
              "#fb9f3a"
             ],
             [
              0.8888888888888888,
              "#fdca26"
             ],
             [
              1,
              "#f0f921"
             ]
            ],
            "type": "contour"
           }
          ],
          "contourcarpet": [
           {
            "colorbar": {
             "outlinewidth": 0,
             "ticks": ""
            },
            "type": "contourcarpet"
           }
          ],
          "heatmap": [
           {
            "colorbar": {
             "outlinewidth": 0,
             "ticks": ""
            },
            "colorscale": [
             [
              0,
              "#0d0887"
             ],
             [
              0.1111111111111111,
              "#46039f"
             ],
             [
              0.2222222222222222,
              "#7201a8"
             ],
             [
              0.3333333333333333,
              "#9c179e"
             ],
             [
              0.4444444444444444,
              "#bd3786"
             ],
             [
              0.5555555555555556,
              "#d8576b"
             ],
             [
              0.6666666666666666,
              "#ed7953"
             ],
             [
              0.7777777777777778,
              "#fb9f3a"
             ],
             [
              0.8888888888888888,
              "#fdca26"
             ],
             [
              1,
              "#f0f921"
             ]
            ],
            "type": "heatmap"
           }
          ],
          "heatmapgl": [
           {
            "colorbar": {
             "outlinewidth": 0,
             "ticks": ""
            },
            "colorscale": [
             [
              0,
              "#0d0887"
             ],
             [
              0.1111111111111111,
              "#46039f"
             ],
             [
              0.2222222222222222,
              "#7201a8"
             ],
             [
              0.3333333333333333,
              "#9c179e"
             ],
             [
              0.4444444444444444,
              "#bd3786"
             ],
             [
              0.5555555555555556,
              "#d8576b"
             ],
             [
              0.6666666666666666,
              "#ed7953"
             ],
             [
              0.7777777777777778,
              "#fb9f3a"
             ],
             [
              0.8888888888888888,
              "#fdca26"
             ],
             [
              1,
              "#f0f921"
             ]
            ],
            "type": "heatmapgl"
           }
          ],
          "histogram": [
           {
            "marker": {
             "pattern": {
              "fillmode": "overlay",
              "size": 10,
              "solidity": 0.2
             }
            },
            "type": "histogram"
           }
          ],
          "histogram2d": [
           {
            "colorbar": {
             "outlinewidth": 0,
             "ticks": ""
            },
            "colorscale": [
             [
              0,
              "#0d0887"
             ],
             [
              0.1111111111111111,
              "#46039f"
             ],
             [
              0.2222222222222222,
              "#7201a8"
             ],
             [
              0.3333333333333333,
              "#9c179e"
             ],
             [
              0.4444444444444444,
              "#bd3786"
             ],
             [
              0.5555555555555556,
              "#d8576b"
             ],
             [
              0.6666666666666666,
              "#ed7953"
             ],
             [
              0.7777777777777778,
              "#fb9f3a"
             ],
             [
              0.8888888888888888,
              "#fdca26"
             ],
             [
              1,
              "#f0f921"
             ]
            ],
            "type": "histogram2d"
           }
          ],
          "histogram2dcontour": [
           {
            "colorbar": {
             "outlinewidth": 0,
             "ticks": ""
            },
            "colorscale": [
             [
              0,
              "#0d0887"
             ],
             [
              0.1111111111111111,
              "#46039f"
             ],
             [
              0.2222222222222222,
              "#7201a8"
             ],
             [
              0.3333333333333333,
              "#9c179e"
             ],
             [
              0.4444444444444444,
              "#bd3786"
             ],
             [
              0.5555555555555556,
              "#d8576b"
             ],
             [
              0.6666666666666666,
              "#ed7953"
             ],
             [
              0.7777777777777778,
              "#fb9f3a"
             ],
             [
              0.8888888888888888,
              "#fdca26"
             ],
             [
              1,
              "#f0f921"
             ]
            ],
            "type": "histogram2dcontour"
           }
          ],
          "mesh3d": [
           {
            "colorbar": {
             "outlinewidth": 0,
             "ticks": ""
            },
            "type": "mesh3d"
           }
          ],
          "parcoords": [
           {
            "line": {
             "colorbar": {
              "outlinewidth": 0,
              "ticks": ""
             }
            },
            "type": "parcoords"
           }
          ],
          "pie": [
           {
            "automargin": true,
            "type": "pie"
           }
          ],
          "scatter": [
           {
            "fillpattern": {
             "fillmode": "overlay",
             "size": 10,
             "solidity": 0.2
            },
            "type": "scatter"
           }
          ],
          "scatter3d": [
           {
            "line": {
             "colorbar": {
              "outlinewidth": 0,
              "ticks": ""
             }
            },
            "marker": {
             "colorbar": {
              "outlinewidth": 0,
              "ticks": ""
             }
            },
            "type": "scatter3d"
           }
          ],
          "scattercarpet": [
           {
            "marker": {
             "colorbar": {
              "outlinewidth": 0,
              "ticks": ""
             }
            },
            "type": "scattercarpet"
           }
          ],
          "scattergeo": [
           {
            "marker": {
             "colorbar": {
              "outlinewidth": 0,
              "ticks": ""
             }
            },
            "type": "scattergeo"
           }
          ],
          "scattergl": [
           {
            "marker": {
             "colorbar": {
              "outlinewidth": 0,
              "ticks": ""
             }
            },
            "type": "scattergl"
           }
          ],
          "scattermapbox": [
           {
            "marker": {
             "colorbar": {
              "outlinewidth": 0,
              "ticks": ""
             }
            },
            "type": "scattermapbox"
           }
          ],
          "scatterpolar": [
           {
            "marker": {
             "colorbar": {
              "outlinewidth": 0,
              "ticks": ""
             }
            },
            "type": "scatterpolar"
           }
          ],
          "scatterpolargl": [
           {
            "marker": {
             "colorbar": {
              "outlinewidth": 0,
              "ticks": ""
             }
            },
            "type": "scatterpolargl"
           }
          ],
          "scatterternary": [
           {
            "marker": {
             "colorbar": {
              "outlinewidth": 0,
              "ticks": ""
             }
            },
            "type": "scatterternary"
           }
          ],
          "surface": [
           {
            "colorbar": {
             "outlinewidth": 0,
             "ticks": ""
            },
            "colorscale": [
             [
              0,
              "#0d0887"
             ],
             [
              0.1111111111111111,
              "#46039f"
             ],
             [
              0.2222222222222222,
              "#7201a8"
             ],
             [
              0.3333333333333333,
              "#9c179e"
             ],
             [
              0.4444444444444444,
              "#bd3786"
             ],
             [
              0.5555555555555556,
              "#d8576b"
             ],
             [
              0.6666666666666666,
              "#ed7953"
             ],
             [
              0.7777777777777778,
              "#fb9f3a"
             ],
             [
              0.8888888888888888,
              "#fdca26"
             ],
             [
              1,
              "#f0f921"
             ]
            ],
            "type": "surface"
           }
          ],
          "table": [
           {
            "cells": {
             "fill": {
              "color": "#EBF0F8"
             },
             "line": {
              "color": "white"
             }
            },
            "header": {
             "fill": {
              "color": "#C8D4E3"
             },
             "line": {
              "color": "white"
             }
            },
            "type": "table"
           }
          ]
         },
         "layout": {
          "annotationdefaults": {
           "arrowcolor": "#2a3f5f",
           "arrowhead": 0,
           "arrowwidth": 1
          },
          "autotypenumbers": "strict",
          "coloraxis": {
           "colorbar": {
            "outlinewidth": 0,
            "ticks": ""
           }
          },
          "colorscale": {
           "diverging": [
            [
             0,
             "#8e0152"
            ],
            [
             0.1,
             "#c51b7d"
            ],
            [
             0.2,
             "#de77ae"
            ],
            [
             0.3,
             "#f1b6da"
            ],
            [
             0.4,
             "#fde0ef"
            ],
            [
             0.5,
             "#f7f7f7"
            ],
            [
             0.6,
             "#e6f5d0"
            ],
            [
             0.7,
             "#b8e186"
            ],
            [
             0.8,
             "#7fbc41"
            ],
            [
             0.9,
             "#4d9221"
            ],
            [
             1,
             "#276419"
            ]
           ],
           "sequential": [
            [
             0,
             "#0d0887"
            ],
            [
             0.1111111111111111,
             "#46039f"
            ],
            [
             0.2222222222222222,
             "#7201a8"
            ],
            [
             0.3333333333333333,
             "#9c179e"
            ],
            [
             0.4444444444444444,
             "#bd3786"
            ],
            [
             0.5555555555555556,
             "#d8576b"
            ],
            [
             0.6666666666666666,
             "#ed7953"
            ],
            [
             0.7777777777777778,
             "#fb9f3a"
            ],
            [
             0.8888888888888888,
             "#fdca26"
            ],
            [
             1,
             "#f0f921"
            ]
           ],
           "sequentialminus": [
            [
             0,
             "#0d0887"
            ],
            [
             0.1111111111111111,
             "#46039f"
            ],
            [
             0.2222222222222222,
             "#7201a8"
            ],
            [
             0.3333333333333333,
             "#9c179e"
            ],
            [
             0.4444444444444444,
             "#bd3786"
            ],
            [
             0.5555555555555556,
             "#d8576b"
            ],
            [
             0.6666666666666666,
             "#ed7953"
            ],
            [
             0.7777777777777778,
             "#fb9f3a"
            ],
            [
             0.8888888888888888,
             "#fdca26"
            ],
            [
             1,
             "#f0f921"
            ]
           ]
          },
          "colorway": [
           "#636efa",
           "#EF553B",
           "#00cc96",
           "#ab63fa",
           "#FFA15A",
           "#19d3f3",
           "#FF6692",
           "#B6E880",
           "#FF97FF",
           "#FECB52"
          ],
          "font": {
           "color": "#2a3f5f"
          },
          "geo": {
           "bgcolor": "white",
           "lakecolor": "white",
           "landcolor": "#E5ECF6",
           "showlakes": true,
           "showland": true,
           "subunitcolor": "white"
          },
          "hoverlabel": {
           "align": "left"
          },
          "hovermode": "closest",
          "mapbox": {
           "style": "light"
          },
          "paper_bgcolor": "white",
          "plot_bgcolor": "#E5ECF6",
          "polar": {
           "angularaxis": {
            "gridcolor": "white",
            "linecolor": "white",
            "ticks": ""
           },
           "bgcolor": "#E5ECF6",
           "radialaxis": {
            "gridcolor": "white",
            "linecolor": "white",
            "ticks": ""
           }
          },
          "scene": {
           "xaxis": {
            "backgroundcolor": "#E5ECF6",
            "gridcolor": "white",
            "gridwidth": 2,
            "linecolor": "white",
            "showbackground": true,
            "ticks": "",
            "zerolinecolor": "white"
           },
           "yaxis": {
            "backgroundcolor": "#E5ECF6",
            "gridcolor": "white",
            "gridwidth": 2,
            "linecolor": "white",
            "showbackground": true,
            "ticks": "",
            "zerolinecolor": "white"
           },
           "zaxis": {
            "backgroundcolor": "#E5ECF6",
            "gridcolor": "white",
            "gridwidth": 2,
            "linecolor": "white",
            "showbackground": true,
            "ticks": "",
            "zerolinecolor": "white"
           }
          },
          "shapedefaults": {
           "line": {
            "color": "#2a3f5f"
           }
          },
          "ternary": {
           "aaxis": {
            "gridcolor": "white",
            "linecolor": "white",
            "ticks": ""
           },
           "baxis": {
            "gridcolor": "white",
            "linecolor": "white",
            "ticks": ""
           },
           "bgcolor": "#E5ECF6",
           "caxis": {
            "gridcolor": "white",
            "linecolor": "white",
            "ticks": ""
           }
          },
          "title": {
           "x": 0.05
          },
          "xaxis": {
           "automargin": true,
           "gridcolor": "white",
           "linecolor": "white",
           "ticks": "",
           "title": {
            "standoff": 15
           },
           "zerolinecolor": "white",
           "zerolinewidth": 2
          },
          "yaxis": {
           "automargin": true,
           "gridcolor": "white",
           "linecolor": "white",
           "ticks": "",
           "title": {
            "standoff": 15
           },
           "zerolinecolor": "white",
           "zerolinewidth": 2
          }
         }
        },
        "xaxis": {
         "gridcolor": "rgba(0,0,0,0.1)",
         "gridwidth": 2,
         "rangeslider": {
          "visible": false
         },
         "tickfont": {
          "color": "white"
         },
         "title": {
          "font": {
           "color": "white"
          },
          "text": "Date & Time"
         }
        },
        "yaxis": {
         "gridcolor": "rgba(0,0,0,0.1)",
         "gridwidth": 2,
         "tickfont": {
          "color": "rgba(230,230,230,1)"
         },
         "title": {
          "font": {
           "color": "rgba(230,230,230,1)"
          },
          "text": "Price"
         }
        }
       }
      }
     },
     "metadata": {},
     "output_type": "display_data"
    }
   ],
   "source": [
    "AAPL_fig = AAPL_Bot.Plotting(interval=\"1m\")"
   ]
  },
  {
   "cell_type": "code",
   "execution_count": 8,
   "metadata": {},
   "outputs": [
    {
     "data": {
      "application/vnd.plotly.v1+json": {
       "config": {
        "plotlyServerURL": "https://plot.ly"
       },
       "data": [
        {
         "marker": {
          "color": [
           "red",
           "red",
           "red",
           "red",
           "red",
           "red",
           "red",
           "red",
           "red",
           "red",
           "red",
           "red",
           "red",
           "red",
           "red",
           "red",
           "red",
           "red",
           "red",
           "red",
           "red",
           "red",
           "red",
           "red",
           "red",
           "red",
           "red",
           "red",
           "red",
           "red",
           "red",
           "red",
           "red",
           "red",
           "red",
           "red",
           "red",
           "red",
           "green",
           "green",
           "green",
           "green",
           "green",
           "green",
           "red",
           "red",
           "red",
           "red",
           "red",
           "red",
           "red",
           "red",
           "red",
           "red",
           "red",
           "red",
           "red",
           "red",
           "red",
           "red",
           "red",
           "red",
           "red",
           "red",
           "red",
           "red",
           "red",
           "red",
           "red"
          ],
          "size": 20,
          "symbol": [
           "triangle-down",
           "triangle-down",
           "triangle-down",
           "triangle-down",
           "triangle-down",
           "triangle-down",
           "triangle-down",
           "triangle-down",
           "triangle-down",
           "triangle-down",
           "triangle-down",
           "triangle-down",
           "triangle-down",
           "triangle-down",
           "triangle-down",
           "triangle-down",
           "triangle-down",
           "triangle-down",
           "triangle-down",
           "triangle-down",
           "triangle-down",
           "triangle-down",
           "triangle-down",
           "triangle-down",
           "triangle-down",
           "triangle-down",
           "triangle-down",
           "triangle-down",
           "triangle-down",
           "triangle-down",
           "triangle-down",
           "triangle-down",
           "triangle-down",
           "triangle-down",
           "triangle-down",
           "triangle-down",
           "triangle-down",
           "triangle-down",
           "triangle-up",
           "triangle-up",
           "triangle-up",
           "triangle-up",
           "triangle-up",
           "triangle-up",
           "triangle-down",
           "triangle-down",
           "triangle-down",
           "triangle-down",
           "triangle-down",
           "triangle-down",
           "triangle-down",
           "triangle-down",
           "triangle-down",
           "triangle-down",
           "triangle-down",
           "triangle-down",
           "triangle-down",
           "triangle-down",
           "triangle-down",
           "triangle-down",
           "triangle-down",
           "triangle-down",
           "triangle-down",
           "triangle-down",
           "triangle-down",
           "triangle-down",
           "triangle-down",
           "triangle-down",
           "triangle-down"
          ]
         },
         "mode": "markers",
         "name": "Buys + Sells",
         "type": "scatter",
         "x": [
          "2024-02-09T14:30:16.723429+00:00",
          "2024-02-09T14:31:03.562590+00:00",
          "2024-02-09T14:32:04.133913+00:00",
          "2024-02-09T14:34:03.175388+00:00",
          "2024-02-09T14:36:03.341061+00:00",
          "2024-02-09T14:37:03.294104+00:00",
          "2024-02-09T14:38:02.751390+00:00",
          "2024-02-09T14:40:03.105977+00:00",
          "2024-02-09T15:18:03.305157+00:00",
          "2024-02-09T15:20:03.909005+00:00",
          "2024-02-09T15:21:03.434123+00:00",
          "2024-02-09T15:22:03.061896+00:00",
          "2024-02-09T15:23:03.310918+00:00",
          "2024-02-09T15:24:02.902690+00:00",
          "2024-02-09T15:25:04.517147+00:00",
          "2024-02-09T15:26:02.875416+00:00",
          "2024-02-09T15:27:02.921490+00:00",
          "2024-02-09T15:28:03.448553+00:00",
          "2024-02-09T15:30:03.082372+00:00",
          "2024-02-09T15:31:03.150613+00:00",
          "2024-02-09T15:32:03.253549+00:00",
          "2024-02-09T15:33:03.232331+00:00",
          "2024-02-09T15:34:03.602253+00:00",
          "2024-02-09T15:35:03.846763+00:00",
          "2024-02-09T15:36:03.429872+00:00",
          "2024-02-09T15:37:03.779184+00:00",
          "2024-02-09T15:38:03.261121+00:00",
          "2024-02-09T15:39:03.597161+00:00",
          "2024-02-09T15:40:03.638601+00:00",
          "2024-02-09T15:41:03.173683+00:00",
          "2024-02-09T15:43:02.908061+00:00",
          "2024-02-09T15:44:03.387236+00:00",
          "2024-02-09T15:45:03.243167+00:00",
          "2024-02-09T15:46:04.448769+00:00",
          "2024-02-09T15:47:03.535185+00:00",
          "2024-02-09T15:48:03.539595+00:00",
          "2024-02-09T15:49:03.614883+00:00",
          "2024-02-09T15:50:03.418918+00:00",
          "2024-02-09T16:22:03.584070+00:00",
          "2024-02-09T16:28:03.183517+00:00",
          "2024-02-09T16:29:03.960984+00:00",
          "2024-02-09T16:30:04.225879+00:00",
          "2024-02-09T16:31:04.208963+00:00",
          "2024-02-09T16:32:03.636069+00:00",
          "2024-02-09T16:38:03.455453+00:00",
          "2024-02-09T16:40:03.620684+00:00",
          "2024-02-09T16:44:03.489495+00:00",
          "2024-02-09T16:46:03.276744+00:00",
          "2024-02-09T16:47:03.391714+00:00",
          "2024-02-09T16:48:03.595654+00:00",
          "2024-02-09T16:49:02.947356+00:00",
          "2024-02-09T16:50:03.723242+00:00",
          "2024-02-09T16:51:03.085447+00:00",
          "2024-02-09T16:52:03.420897+00:00",
          "2024-02-09T16:53:03.726192+00:00",
          "2024-02-09T17:32:03.805356+00:00",
          "2024-02-09T17:33:03.559232+00:00",
          "2024-02-09T17:36:02.997673+00:00",
          "2024-02-09T17:37:04.108609+00:00",
          "2024-02-09T17:40:03.542474+00:00",
          "2024-02-09T17:42:03.548455+00:00",
          "2024-02-09T17:43:03.921737+00:00",
          "2024-02-09T17:44:02.949952+00:00",
          "2024-02-09T17:45:04.062142+00:00",
          "2024-02-09T17:46:03.067555+00:00",
          "2024-02-09T17:48:02.980854+00:00",
          "2024-02-09T17:53:03.423229+00:00",
          "2024-02-09T17:55:03.768687+00:00",
          "2024-02-09T17:56:03.602589+00:00"
         ],
         "y": [
          170.73,
          171.29,
          171.57,
          171.2,
          170.99,
          171.32,
          171.05,
          171.08,
          171.12,
          171.3,
          171.28,
          171.33,
          171.39,
          171.38,
          171.34,
          171.42,
          171.49,
          171.61,
          171.78,
          171.77,
          171.91,
          172.1,
          172.12,
          172.33,
          172.59,
          172.56,
          172.63,
          172.77,
          172.78,
          172.65,
          172.91,
          172.92,
          172.9,
          173.06,
          173.23,
          173.41,
          173.25,
          173.3,
          172.88,
          172.62,
          172.65,
          172.7,
          172.73,
          172.67,
          173.27,
          173.47,
          173.66,
          173.58,
          173.67,
          173.69,
          173.64,
          173.65,
          173.85,
          173.93,
          173.84,
          173.74,
          173.71,
          173.9,
          173.95,
          173.99,
          174.06,
          173.98,
          174.04,
          174.05,
          174.18,
          174.11,
          174.2,
          174.24,
          174.34
         ]
        },
        {
         "mode": "lines+markers",
         "name": "Price",
         "type": "scatter",
         "x": [
          "2024-02-09T14:30:02.127797+00:00",
          "2024-02-09T14:31:01.714015+00:00",
          "2024-02-09T14:32:02.920865+00:00",
          "2024-02-09T14:33:02.987125+00:00",
          "2024-02-09T14:34:01.487473+00:00",
          "2024-02-09T14:35:01.593323+00:00",
          "2024-02-09T14:36:01.960080+00:00",
          "2024-02-09T14:37:01.556329+00:00",
          "2024-02-09T14:38:01.582862+00:00",
          "2024-02-09T14:39:02.601314+00:00",
          "2024-02-09T14:40:01.579340+00:00",
          "2024-02-09T14:41:01.318274+00:00",
          "2024-02-09T14:42:01.342842+00:00",
          "2024-02-09T14:43:01.535376+00:00",
          "2024-02-09T14:44:01.343894+00:00",
          "2024-02-09T14:45:01.815580+00:00",
          "2024-02-09T14:46:01.780221+00:00",
          "2024-02-09T14:47:01.385904+00:00",
          "2024-02-09T14:48:01.729837+00:00",
          "2024-02-09T14:49:01.997433+00:00",
          "2024-02-09T14:50:01.704791+00:00",
          "2024-02-09T14:51:01.720142+00:00",
          "2024-02-09T14:52:01.667969+00:00",
          "2024-02-09T14:53:02.164660+00:00",
          "2024-02-09T14:54:01.549426+00:00",
          "2024-02-09T14:55:02.255871+00:00",
          "2024-02-09T14:56:01.690309+00:00",
          "2024-02-09T14:57:01.681709+00:00",
          "2024-02-09T14:58:01.908129+00:00",
          "2024-02-09T14:59:01.878586+00:00",
          "2024-02-09T15:00:02.088034+00:00",
          "2024-02-09T15:01:01.964273+00:00",
          "2024-02-09T15:02:01.992559+00:00",
          "2024-02-09T15:03:01.515098+00:00",
          "2024-02-09T15:04:01.807769+00:00",
          "2024-02-09T15:05:01.509277+00:00",
          "2024-02-09T15:06:02.084547+00:00",
          "2024-02-09T15:07:01.703511+00:00",
          "2024-02-09T15:08:01.950054+00:00",
          "2024-02-09T15:09:01.479705+00:00",
          "2024-02-09T15:10:01.703533+00:00",
          "2024-02-09T15:11:01.702554+00:00",
          "2024-02-09T15:12:01.733206+00:00",
          "2024-02-09T15:13:01.450694+00:00",
          "2024-02-09T15:14:01.509737+00:00",
          "2024-02-09T15:15:01.818569+00:00",
          "2024-02-09T15:16:02.050439+00:00",
          "2024-02-09T15:17:01.981130+00:00",
          "2024-02-09T15:18:01.928485+00:00",
          "2024-02-09T15:19:01.701443+00:00",
          "2024-02-09T15:20:02.022536+00:00",
          "2024-02-09T15:21:01.687108+00:00",
          "2024-02-09T15:22:01.879961+00:00",
          "2024-02-09T15:23:01.747528+00:00",
          "2024-02-09T15:24:01.658198+00:00",
          "2024-02-09T15:25:02.420142+00:00",
          "2024-02-09T15:26:01.317792+00:00",
          "2024-02-09T15:27:01.553537+00:00",
          "2024-02-09T15:28:02.038877+00:00",
          "2024-02-09T15:29:01.654663+00:00",
          "2024-02-09T15:30:01.704845+00:00",
          "2024-02-09T15:31:01.684073+00:00",
          "2024-02-09T15:32:01.996497+00:00",
          "2024-02-09T15:33:01.593404+00:00",
          "2024-02-09T15:34:01.975894+00:00",
          "2024-02-09T15:35:02.072199+00:00",
          "2024-02-09T15:36:02.052021+00:00",
          "2024-02-09T15:37:01.985986+00:00",
          "2024-02-09T15:38:01.845026+00:00",
          "2024-02-09T15:39:02.240811+00:00",
          "2024-02-09T15:40:01.979863+00:00",
          "2024-02-09T15:41:01.662498+00:00",
          "2024-02-09T15:42:01.869040+00:00",
          "2024-02-09T15:43:01.723722+00:00",
          "2024-02-09T15:44:01.609443+00:00",
          "2024-02-09T15:45:02.037399+00:00",
          "2024-02-09T15:46:02.381925+00:00",
          "2024-02-09T15:47:02.248575+00:00",
          "2024-02-09T15:48:01.970740+00:00",
          "2024-02-09T15:49:02.090598+00:00",
          "2024-02-09T15:50:01.940947+00:00",
          "2024-02-09T15:51:01.765290+00:00",
          "2024-02-09T15:52:02.042121+00:00",
          "2024-02-09T15:53:01.874603+00:00",
          "2024-02-09T15:54:01.421353+00:00",
          "2024-02-09T15:55:01.814233+00:00",
          "2024-02-09T15:56:01.578321+00:00",
          "2024-02-09T15:57:01.821604+00:00",
          "2024-02-09T15:58:01.653537+00:00",
          "2024-02-09T15:59:01.613291+00:00",
          "2024-02-09T16:00:01.707258+00:00",
          "2024-02-09T16:01:01.481279+00:00",
          "2024-02-09T16:02:01.937362+00:00",
          "2024-02-09T16:03:01.589539+00:00",
          "2024-02-09T16:04:01.698330+00:00",
          "2024-02-09T16:05:02.175571+00:00",
          "2024-02-09T16:06:01.910643+00:00",
          "2024-02-09T16:07:01.676191+00:00",
          "2024-02-09T16:08:01.624152+00:00",
          "2024-02-09T16:09:02.192596+00:00",
          "2024-02-09T16:10:01.414302+00:00",
          "2024-02-09T16:11:02.034227+00:00",
          "2024-02-09T16:12:01.685900+00:00",
          "2024-02-09T16:13:02.197971+00:00",
          "2024-02-09T16:14:01.665548+00:00",
          "2024-02-09T16:15:01.455569+00:00",
          "2024-02-09T16:16:01.732681+00:00",
          "2024-02-09T16:17:01.894794+00:00",
          "2024-02-09T16:18:02.107299+00:00",
          "2024-02-09T16:19:02.293819+00:00",
          "2024-02-09T16:20:02.285353+00:00",
          "2024-02-09T16:21:01.717938+00:00",
          "2024-02-09T16:22:02.074351+00:00",
          "2024-02-09T16:23:01.502311+00:00",
          "2024-02-09T16:24:01.893109+00:00",
          "2024-02-09T16:25:01.648557+00:00",
          "2024-02-09T16:26:01.889347+00:00",
          "2024-02-09T16:27:01.942850+00:00",
          "2024-02-09T16:28:01.938619+00:00",
          "2024-02-09T16:29:02.366197+00:00",
          "2024-02-09T16:30:02.717556+00:00",
          "2024-02-09T16:31:02.420693+00:00",
          "2024-02-09T16:32:02.237861+00:00",
          "2024-02-09T16:33:02.225153+00:00",
          "2024-02-09T16:34:02.009657+00:00",
          "2024-02-09T16:35:02.012056+00:00",
          "2024-02-09T16:36:01.663424+00:00",
          "2024-02-09T16:37:01.832854+00:00",
          "2024-02-09T16:38:01.748021+00:00",
          "2024-02-09T16:39:02.137221+00:00",
          "2024-02-09T16:40:02.297643+00:00",
          "2024-02-09T16:41:02.013740+00:00",
          "2024-02-09T16:42:01.965947+00:00",
          "2024-02-09T16:43:02.022716+00:00",
          "2024-02-09T16:44:01.901416+00:00",
          "2024-02-09T16:45:01.721195+00:00",
          "2024-02-09T16:46:01.714577+00:00",
          "2024-02-09T16:47:01.887847+00:00",
          "2024-02-09T16:48:01.927089+00:00",
          "2024-02-09T16:49:01.655368+00:00",
          "2024-02-09T16:50:02.406725+00:00",
          "2024-02-09T16:51:01.613519+00:00",
          "2024-02-09T16:52:02.059316+00:00",
          "2024-02-09T16:53:02.006585+00:00",
          "2024-02-09T16:54:02.285457+00:00",
          "2024-02-09T16:55:02.185905+00:00",
          "2024-02-09T16:56:02.329622+00:00",
          "2024-02-09T16:57:02.024157+00:00",
          "2024-02-09T16:58:02.188874+00:00",
          "2024-02-09T16:59:02.212280+00:00",
          "2024-02-09T17:00:01.610802+00:00",
          "2024-02-09T17:01:02.019009+00:00",
          "2024-02-09T17:02:01.993002+00:00",
          "2024-02-09T17:03:02.330873+00:00",
          "2024-02-09T17:04:01.883254+00:00",
          "2024-02-09T17:05:02.156402+00:00",
          "2024-02-09T17:06:01.624011+00:00",
          "2024-02-09T17:07:02.162073+00:00",
          "2024-02-09T17:08:02.038374+00:00",
          "2024-02-09T17:09:01.968640+00:00",
          "2024-02-09T17:10:01.982138+00:00",
          "2024-02-09T17:11:01.580082+00:00",
          "2024-02-09T17:12:01.782791+00:00",
          "2024-02-09T17:13:01.968418+00:00",
          "2024-02-09T17:14:02.044846+00:00",
          "2024-02-09T17:15:02.014490+00:00",
          "2024-02-09T17:16:02.051977+00:00",
          "2024-02-09T17:17:01.874398+00:00",
          "2024-02-09T17:18:01.778326+00:00",
          "2024-02-09T17:19:02.437730+00:00",
          "2024-02-09T17:20:01.717404+00:00",
          "2024-02-09T17:21:02.306583+00:00",
          "2024-02-09T17:22:01.881201+00:00",
          "2024-02-09T17:23:02.085805+00:00",
          "2024-02-09T17:24:01.806543+00:00",
          "2024-02-09T17:25:01.946073+00:00",
          "2024-02-09T17:26:02.258735+00:00",
          "2024-02-09T17:27:01.790348+00:00",
          "2024-02-09T17:28:01.957006+00:00",
          "2024-02-09T17:29:02.095251+00:00",
          "2024-02-09T17:30:01.933084+00:00",
          "2024-02-09T17:31:02.521741+00:00",
          "2024-02-09T17:32:01.965033+00:00",
          "2024-02-09T17:33:01.991580+00:00",
          "2024-02-09T17:34:01.850599+00:00",
          "2024-02-09T17:35:01.557907+00:00",
          "2024-02-09T17:36:01.609975+00:00",
          "2024-02-09T17:37:02.024930+00:00",
          "2024-02-09T17:38:02.178758+00:00",
          "2024-02-09T17:39:01.939896+00:00",
          "2024-02-09T17:40:02.009843+00:00",
          "2024-02-09T17:41:02.455162+00:00",
          "2024-02-09T17:42:02.299024+00:00",
          "2024-02-09T17:43:02.026221+00:00",
          "2024-02-09T17:44:01.489659+00:00",
          "2024-02-09T17:45:02.048609+00:00",
          "2024-02-09T17:46:01.579808+00:00",
          "2024-02-09T17:47:01.504284+00:00",
          "2024-02-09T17:48:01.632121+00:00",
          "2024-02-09T17:49:01.608714+00:00",
          "2024-02-09T17:50:01.846540+00:00",
          "2024-02-09T17:51:01.625896+00:00",
          "2024-02-09T17:52:02.038473+00:00",
          "2024-02-09T17:53:02.108803+00:00",
          "2024-02-09T17:54:02.408946+00:00",
          "2024-02-09T17:55:01.911853+00:00",
          "2024-02-09T17:56:01.888558+00:00",
          "2024-02-09T17:57:02.182686+00:00",
          "2024-02-09T17:58:02.107972+00:00",
          "2024-02-09T17:59:01.600782+00:00",
          "2024-02-09T18:00:01.716711+00:00"
         ],
         "y": [
          170.9,
          171.16,
          171.6,
          171.12,
          171.21,
          171.26,
          170.97,
          171.2,
          171.08,
          171.04,
          171.15,
          171.01,
          171.02,
          170.88,
          171.15,
          171.2,
          171.04,
          170.87,
          170.87,
          170.88,
          171.02,
          171.07,
          170.95,
          170.9,
          170.83,
          170.95,
          170.75,
          170.9,
          170.82,
          170.76,
          170.8,
          170.73,
          170.81,
          170.78,
          170.69,
          170.72,
          170.7,
          170.71,
          170.78,
          170.79,
          170.83,
          170.77,
          170.7,
          170.84,
          170.9,
          170.92,
          171.1,
          171.04,
          171.13,
          171.29,
          171.25,
          171.29,
          171.32,
          171.4,
          171.35,
          171.33,
          171.4,
          171.51,
          171.65,
          171.71,
          171.8,
          171.78,
          171.9,
          172.12,
          172.11,
          172.32,
          172.6,
          172.56,
          172.65,
          172.78,
          172.74,
          172.68,
          172.84,
          172.95,
          172.92,
          172.9,
          173.1,
          173.24,
          173.4,
          173.27,
          173.31,
          173.21,
          173.09,
          173.02,
          173.24,
          173.27,
          173.3,
          173.11,
          173.11,
          173.12,
          173.35,
          173.28,
          173.32,
          173.15,
          173.12,
          173.02,
          173.06,
          173.07,
          173.19,
          173.19,
          173.19,
          173.02,
          173.03,
          172.98,
          173.04,
          173.09,
          173.04,
          173.02,
          172.93,
          172.88,
          172.92,
          172.89,
          172.85,
          172.9,
          172.9,
          172.89,
          172.87,
          172.7,
          172.62,
          172.59,
          172.68,
          172.73,
          172.68,
          172.75,
          172.85,
          173.04,
          173.01,
          173.24,
          173.31,
          173.2,
          173.47,
          173.6,
          173.63,
          173.65,
          173.69,
          173.71,
          173.57,
          173.7,
          173.7,
          173.68,
          173.68,
          173.87,
          173.94,
          173.9,
          173.58,
          173.67,
          173.58,
          173.6,
          173.56,
          173.42,
          173.33,
          173.32,
          173.27,
          173.37,
          173.39,
          173.2,
          173.06,
          173.27,
          173.17,
          173.44,
          173.47,
          173.43,
          173.48,
          173.49,
          173.33,
          173.4,
          173.38,
          173.45,
          173.53,
          173.48,
          173.43,
          173.57,
          173.6,
          173.52,
          173.54,
          173.59,
          173.54,
          173.6,
          173.6,
          173.54,
          173.6,
          173.6,
          173.75,
          173.71,
          173.7,
          173.69,
          173.9,
          173.96,
          173.98,
          174.01,
          174.01,
          174.06,
          174.07,
          173.99,
          174.03,
          174.03,
          174.16,
          174.21,
          174.11,
          174.07,
          174.12,
          174.12,
          174.15,
          174.25,
          174.2,
          174.25,
          174.32,
          174.26,
          174.26,
          174.32,
          174.31
         ]
        },
        {
         "mode": "lines",
         "name": "Moving Average",
         "type": "scatter",
         "x": [
          "2024-02-09T14:30:02.127797+00:00",
          "2024-02-09T14:31:01.714015+00:00",
          "2024-02-09T14:32:02.920865+00:00",
          "2024-02-09T14:33:02.987125+00:00",
          "2024-02-09T14:34:01.487473+00:00",
          "2024-02-09T14:35:01.593323+00:00",
          "2024-02-09T14:36:01.960080+00:00",
          "2024-02-09T14:37:01.556329+00:00",
          "2024-02-09T14:38:01.582862+00:00",
          "2024-02-09T14:39:02.601314+00:00",
          "2024-02-09T14:40:01.579340+00:00",
          "2024-02-09T14:41:01.318274+00:00",
          "2024-02-09T14:42:01.342842+00:00",
          "2024-02-09T14:43:01.535376+00:00",
          "2024-02-09T14:44:01.343894+00:00",
          "2024-02-09T14:45:01.815580+00:00",
          "2024-02-09T14:46:01.780221+00:00",
          "2024-02-09T14:47:01.385904+00:00",
          "2024-02-09T14:48:01.729837+00:00",
          "2024-02-09T14:49:01.997433+00:00",
          "2024-02-09T14:50:01.704791+00:00",
          "2024-02-09T14:51:01.720142+00:00",
          "2024-02-09T14:52:01.667969+00:00",
          "2024-02-09T14:53:02.164660+00:00",
          "2024-02-09T14:54:01.549426+00:00",
          "2024-02-09T14:55:02.255871+00:00",
          "2024-02-09T14:56:01.690309+00:00",
          "2024-02-09T14:57:01.681709+00:00",
          "2024-02-09T14:58:01.908129+00:00",
          "2024-02-09T14:59:01.878586+00:00",
          "2024-02-09T15:00:02.088034+00:00",
          "2024-02-09T15:01:01.964273+00:00",
          "2024-02-09T15:02:01.992559+00:00",
          "2024-02-09T15:03:01.515098+00:00",
          "2024-02-09T15:04:01.807769+00:00",
          "2024-02-09T15:05:01.509277+00:00",
          "2024-02-09T15:06:02.084547+00:00",
          "2024-02-09T15:07:01.703511+00:00",
          "2024-02-09T15:08:01.950054+00:00",
          "2024-02-09T15:09:01.479705+00:00",
          "2024-02-09T15:10:01.703533+00:00",
          "2024-02-09T15:11:01.702554+00:00",
          "2024-02-09T15:12:01.733206+00:00",
          "2024-02-09T15:13:01.450694+00:00",
          "2024-02-09T15:14:01.509737+00:00",
          "2024-02-09T15:15:01.818569+00:00",
          "2024-02-09T15:16:02.050439+00:00",
          "2024-02-09T15:17:01.981130+00:00",
          "2024-02-09T15:18:01.928485+00:00",
          "2024-02-09T15:19:01.701443+00:00",
          "2024-02-09T15:20:02.022536+00:00",
          "2024-02-09T15:21:01.687108+00:00",
          "2024-02-09T15:22:01.879961+00:00",
          "2024-02-09T15:23:01.747528+00:00",
          "2024-02-09T15:24:01.658198+00:00",
          "2024-02-09T15:25:02.420142+00:00",
          "2024-02-09T15:26:01.317792+00:00",
          "2024-02-09T15:27:01.553537+00:00",
          "2024-02-09T15:28:02.038877+00:00",
          "2024-02-09T15:29:01.654663+00:00",
          "2024-02-09T15:30:01.704845+00:00",
          "2024-02-09T15:31:01.684073+00:00",
          "2024-02-09T15:32:01.996497+00:00",
          "2024-02-09T15:33:01.593404+00:00",
          "2024-02-09T15:34:01.975894+00:00",
          "2024-02-09T15:35:02.072199+00:00",
          "2024-02-09T15:36:02.052021+00:00",
          "2024-02-09T15:37:01.985986+00:00",
          "2024-02-09T15:38:01.845026+00:00",
          "2024-02-09T15:39:02.240811+00:00",
          "2024-02-09T15:40:01.979863+00:00",
          "2024-02-09T15:41:01.662498+00:00",
          "2024-02-09T15:42:01.869040+00:00",
          "2024-02-09T15:43:01.723722+00:00",
          "2024-02-09T15:44:01.609443+00:00",
          "2024-02-09T15:45:02.037399+00:00",
          "2024-02-09T15:46:02.381925+00:00",
          "2024-02-09T15:47:02.248575+00:00",
          "2024-02-09T15:48:01.970740+00:00",
          "2024-02-09T15:49:02.090598+00:00",
          "2024-02-09T15:50:01.940947+00:00",
          "2024-02-09T15:51:01.765290+00:00",
          "2024-02-09T15:52:02.042121+00:00",
          "2024-02-09T15:53:01.874603+00:00",
          "2024-02-09T15:54:01.421353+00:00",
          "2024-02-09T15:55:01.814233+00:00",
          "2024-02-09T15:56:01.578321+00:00",
          "2024-02-09T15:57:01.821604+00:00",
          "2024-02-09T15:58:01.653537+00:00",
          "2024-02-09T15:59:01.613291+00:00",
          "2024-02-09T16:00:01.707258+00:00",
          "2024-02-09T16:01:01.481279+00:00",
          "2024-02-09T16:02:01.937362+00:00",
          "2024-02-09T16:03:01.589539+00:00",
          "2024-02-09T16:04:01.698330+00:00",
          "2024-02-09T16:05:02.175571+00:00",
          "2024-02-09T16:06:01.910643+00:00",
          "2024-02-09T16:07:01.676191+00:00",
          "2024-02-09T16:08:01.624152+00:00",
          "2024-02-09T16:09:02.192596+00:00",
          "2024-02-09T16:10:01.414302+00:00",
          "2024-02-09T16:11:02.034227+00:00",
          "2024-02-09T16:12:01.685900+00:00",
          "2024-02-09T16:13:02.197971+00:00",
          "2024-02-09T16:14:01.665548+00:00",
          "2024-02-09T16:15:01.455569+00:00",
          "2024-02-09T16:16:01.732681+00:00",
          "2024-02-09T16:17:01.894794+00:00",
          "2024-02-09T16:18:02.107299+00:00",
          "2024-02-09T16:19:02.293819+00:00",
          "2024-02-09T16:20:02.285353+00:00",
          "2024-02-09T16:21:01.717938+00:00",
          "2024-02-09T16:22:02.074351+00:00",
          "2024-02-09T16:23:01.502311+00:00",
          "2024-02-09T16:24:01.893109+00:00",
          "2024-02-09T16:25:01.648557+00:00",
          "2024-02-09T16:26:01.889347+00:00",
          "2024-02-09T16:27:01.942850+00:00",
          "2024-02-09T16:28:01.938619+00:00",
          "2024-02-09T16:29:02.366197+00:00",
          "2024-02-09T16:30:02.717556+00:00",
          "2024-02-09T16:31:02.420693+00:00",
          "2024-02-09T16:32:02.237861+00:00",
          "2024-02-09T16:33:02.225153+00:00",
          "2024-02-09T16:34:02.009657+00:00",
          "2024-02-09T16:35:02.012056+00:00",
          "2024-02-09T16:36:01.663424+00:00",
          "2024-02-09T16:37:01.832854+00:00",
          "2024-02-09T16:38:01.748021+00:00",
          "2024-02-09T16:39:02.137221+00:00",
          "2024-02-09T16:40:02.297643+00:00",
          "2024-02-09T16:41:02.013740+00:00",
          "2024-02-09T16:42:01.965947+00:00",
          "2024-02-09T16:43:02.022716+00:00",
          "2024-02-09T16:44:01.901416+00:00",
          "2024-02-09T16:45:01.721195+00:00",
          "2024-02-09T16:46:01.714577+00:00",
          "2024-02-09T16:47:01.887847+00:00",
          "2024-02-09T16:48:01.927089+00:00",
          "2024-02-09T16:49:01.655368+00:00",
          "2024-02-09T16:50:02.406725+00:00",
          "2024-02-09T16:51:01.613519+00:00",
          "2024-02-09T16:52:02.059316+00:00",
          "2024-02-09T16:53:02.006585+00:00",
          "2024-02-09T16:54:02.285457+00:00",
          "2024-02-09T16:55:02.185905+00:00",
          "2024-02-09T16:56:02.329622+00:00",
          "2024-02-09T16:57:02.024157+00:00",
          "2024-02-09T16:58:02.188874+00:00",
          "2024-02-09T16:59:02.212280+00:00",
          "2024-02-09T17:00:01.610802+00:00",
          "2024-02-09T17:01:02.019009+00:00",
          "2024-02-09T17:02:01.993002+00:00",
          "2024-02-09T17:03:02.330873+00:00",
          "2024-02-09T17:04:01.883254+00:00",
          "2024-02-09T17:05:02.156402+00:00",
          "2024-02-09T17:06:01.624011+00:00",
          "2024-02-09T17:07:02.162073+00:00",
          "2024-02-09T17:08:02.038374+00:00",
          "2024-02-09T17:09:01.968640+00:00",
          "2024-02-09T17:10:01.982138+00:00",
          "2024-02-09T17:11:01.580082+00:00",
          "2024-02-09T17:12:01.782791+00:00",
          "2024-02-09T17:13:01.968418+00:00",
          "2024-02-09T17:14:02.044846+00:00",
          "2024-02-09T17:15:02.014490+00:00",
          "2024-02-09T17:16:02.051977+00:00",
          "2024-02-09T17:17:01.874398+00:00",
          "2024-02-09T17:18:01.778326+00:00",
          "2024-02-09T17:19:02.437730+00:00",
          "2024-02-09T17:20:01.717404+00:00",
          "2024-02-09T17:21:02.306583+00:00",
          "2024-02-09T17:22:01.881201+00:00",
          "2024-02-09T17:23:02.085805+00:00",
          "2024-02-09T17:24:01.806543+00:00",
          "2024-02-09T17:25:01.946073+00:00",
          "2024-02-09T17:26:02.258735+00:00",
          "2024-02-09T17:27:01.790348+00:00",
          "2024-02-09T17:28:01.957006+00:00",
          "2024-02-09T17:29:02.095251+00:00",
          "2024-02-09T17:30:01.933084+00:00",
          "2024-02-09T17:31:02.521741+00:00",
          "2024-02-09T17:32:01.965033+00:00",
          "2024-02-09T17:33:01.991580+00:00",
          "2024-02-09T17:34:01.850599+00:00",
          "2024-02-09T17:35:01.557907+00:00",
          "2024-02-09T17:36:01.609975+00:00",
          "2024-02-09T17:37:02.024930+00:00",
          "2024-02-09T17:38:02.178758+00:00",
          "2024-02-09T17:39:01.939896+00:00",
          "2024-02-09T17:40:02.009843+00:00",
          "2024-02-09T17:41:02.455162+00:00",
          "2024-02-09T17:42:02.299024+00:00",
          "2024-02-09T17:43:02.026221+00:00",
          "2024-02-09T17:44:01.489659+00:00",
          "2024-02-09T17:45:02.048609+00:00",
          "2024-02-09T17:46:01.579808+00:00",
          "2024-02-09T17:47:01.504284+00:00",
          "2024-02-09T17:48:01.632121+00:00",
          "2024-02-09T17:49:01.608714+00:00",
          "2024-02-09T17:50:01.846540+00:00",
          "2024-02-09T17:51:01.625896+00:00",
          "2024-02-09T17:52:02.038473+00:00",
          "2024-02-09T17:53:02.108803+00:00",
          "2024-02-09T17:54:02.408946+00:00",
          "2024-02-09T17:55:01.911853+00:00",
          "2024-02-09T17:56:01.888558+00:00",
          "2024-02-09T17:57:02.182686+00:00",
          "2024-02-09T17:58:02.107972+00:00",
          "2024-02-09T17:59:01.600782+00:00",
          "2024-02-09T18:00:01.716711+00:00"
         ],
         "y": [
          169.8665,
          169.89950000000002,
          169.94350000000003,
          169.9755,
          170.00975,
          170.04524999999998,
          170.0735,
          170.10750000000002,
          170.1385,
          170.1685,
          170.20125000000002,
          170.2305,
          170.26,
          170.286,
          170.31875,
          170.35275000000001,
          170.38275000000002,
          170.4085,
          170.43425,
          170.46025,
          170.48975000000002,
          170.52050000000003,
          170.54825,
          170.57475,
          170.59949999999998,
          170.62725,
          170.65,
          170.6765,
          170.701,
          170.724,
          170.748,
          170.77024999999998,
          170.7945,
          170.818,
          170.83925000000002,
          170.86124999999998,
          170.88275,
          170.90449999999998,
          170.928,
          170.95175,
          170.95,
          170.94025,
          170.91775,
          170.91074999999998,
          170.903,
          170.89450000000002,
          170.89775,
          170.89375,
          170.895,
          170.90125,
          170.90375,
          170.91074999999998,
          170.91825,
          170.93125,
          170.93625000000003,
          170.9395,
          170.9485,
          170.9645,
          170.98399999999998,
          171.00475,
          171.02425,
          171.04199999999997,
          171.06575,
          171.09625,
          171.12825,
          171.1625,
          171.20875,
          171.25025,
          171.296,
          171.3465,
          171.395,
          171.44375,
          171.4945,
          171.54874999999998,
          171.60449999999997,
          171.65900000000002,
          171.719,
          171.78225,
          171.84775,
          171.90974999999997,
          171.97175,
          172.03275000000002,
          172.0925,
          172.147,
          172.2055,
          172.26425,
          172.31925,
          172.371,
          172.4205,
          172.46625,
          172.51875,
          172.56850000000003,
          172.61849999999998,
          172.66225,
          172.7065,
          172.74875,
          172.79025000000001,
          172.82925,
          172.86775,
          172.90475,
          172.9395,
          172.97050000000002,
          172.99875,
          173.02024999999998,
          173.04350000000002,
          173.06275,
          173.07375,
          173.08525,
          173.09225,
          173.09475000000003,
          173.09924999999998,
          173.1045,
          173.10475000000002,
          173.1035,
          173.103,
          173.10275,
          173.097,
          173.08350000000002,
          173.064,
          173.047,
          173.03125,
          173.01925,
          173.009,
          173.00225,
          172.9925,
          172.98675,
          172.9795,
          172.98275,
          172.98774999999998,
          172.98975000000002,
          172.99275,
          173.00074999999998,
          173.0085,
          173.02100000000002,
          173.03525,
          173.0525,
          173.06525,
          173.081,
          173.09375,
          173.106,
          173.11825000000002,
          173.1395,
          173.16225,
          173.18525000000002,
          173.19875,
          173.21325000000002,
          173.22675,
          173.24124999999998,
          173.257,
          173.2705,
          173.28075,
          173.29149999999998,
          173.302,
          173.31375,
          173.326,
          173.33375,
          173.3385,
          173.35275000000001,
          173.3665,
          173.38775,
          173.4075,
          173.42499999999998,
          173.445,
          173.4635,
          173.47549999999998,
          173.4845,
          173.49375,
          173.499,
          173.5045,
          173.51149999999998,
          173.5105,
          173.50975,
          173.509,
          173.50575,
          173.502,
          173.49899999999997,
          173.49825,
          173.49575,
          173.49325000000002,
          173.48975000000002,
          173.48774999999998,
          173.481,
          173.47625,
          173.4715,
          173.47449999999998,
          173.475,
          173.483,
          173.49200000000002,
          173.5025,
          173.51725,
          173.53425,
          173.55275,
          173.57274999999998,
          173.58825,
          173.60425,
          173.625,
          173.6525,
          173.676,
          173.6995,
          173.71525,
          173.7315,
          173.74875000000003,
          173.7655,
          173.7845,
          173.80625,
          173.8275,
          173.851,
          173.87124999999997,
          173.8895,
          173.9105,
          173.9325
         ]
        },
        {
         "mode": "lines",
         "name": "Upper Band",
         "type": "scatter",
         "x": [
          "2024-02-09T14:30:02.127797+00:00",
          "2024-02-09T14:31:01.714015+00:00",
          "2024-02-09T14:32:02.920865+00:00",
          "2024-02-09T14:33:02.987125+00:00",
          "2024-02-09T14:34:01.487473+00:00",
          "2024-02-09T14:35:01.593323+00:00",
          "2024-02-09T14:36:01.960080+00:00",
          "2024-02-09T14:37:01.556329+00:00",
          "2024-02-09T14:38:01.582862+00:00",
          "2024-02-09T14:39:02.601314+00:00",
          "2024-02-09T14:40:01.579340+00:00",
          "2024-02-09T14:41:01.318274+00:00",
          "2024-02-09T14:42:01.342842+00:00",
          "2024-02-09T14:43:01.535376+00:00",
          "2024-02-09T14:44:01.343894+00:00",
          "2024-02-09T14:45:01.815580+00:00",
          "2024-02-09T14:46:01.780221+00:00",
          "2024-02-09T14:47:01.385904+00:00",
          "2024-02-09T14:48:01.729837+00:00",
          "2024-02-09T14:49:01.997433+00:00",
          "2024-02-09T14:50:01.704791+00:00",
          "2024-02-09T14:51:01.720142+00:00",
          "2024-02-09T14:52:01.667969+00:00",
          "2024-02-09T14:53:02.164660+00:00",
          "2024-02-09T14:54:01.549426+00:00",
          "2024-02-09T14:55:02.255871+00:00",
          "2024-02-09T14:56:01.690309+00:00",
          "2024-02-09T14:57:01.681709+00:00",
          "2024-02-09T14:58:01.908129+00:00",
          "2024-02-09T14:59:01.878586+00:00",
          "2024-02-09T15:00:02.088034+00:00",
          "2024-02-09T15:01:01.964273+00:00",
          "2024-02-09T15:02:01.992559+00:00",
          "2024-02-09T15:03:01.515098+00:00",
          "2024-02-09T15:04:01.807769+00:00",
          "2024-02-09T15:05:01.509277+00:00",
          "2024-02-09T15:06:02.084547+00:00",
          "2024-02-09T15:07:01.703511+00:00",
          "2024-02-09T15:08:01.950054+00:00",
          "2024-02-09T15:09:01.479705+00:00",
          "2024-02-09T15:10:01.703533+00:00",
          "2024-02-09T15:11:01.702554+00:00",
          "2024-02-09T15:12:01.733206+00:00",
          "2024-02-09T15:13:01.450694+00:00",
          "2024-02-09T15:14:01.509737+00:00",
          "2024-02-09T15:15:01.818569+00:00",
          "2024-02-09T15:16:02.050439+00:00",
          "2024-02-09T15:17:01.981130+00:00",
          "2024-02-09T15:18:01.928485+00:00",
          "2024-02-09T15:19:01.701443+00:00",
          "2024-02-09T15:20:02.022536+00:00",
          "2024-02-09T15:21:01.687108+00:00",
          "2024-02-09T15:22:01.879961+00:00",
          "2024-02-09T15:23:01.747528+00:00",
          "2024-02-09T15:24:01.658198+00:00",
          "2024-02-09T15:25:02.420142+00:00",
          "2024-02-09T15:26:01.317792+00:00",
          "2024-02-09T15:27:01.553537+00:00",
          "2024-02-09T15:28:02.038877+00:00",
          "2024-02-09T15:29:01.654663+00:00",
          "2024-02-09T15:30:01.704845+00:00",
          "2024-02-09T15:31:01.684073+00:00",
          "2024-02-09T15:32:01.996497+00:00",
          "2024-02-09T15:33:01.593404+00:00",
          "2024-02-09T15:34:01.975894+00:00",
          "2024-02-09T15:35:02.072199+00:00",
          "2024-02-09T15:36:02.052021+00:00",
          "2024-02-09T15:37:01.985986+00:00",
          "2024-02-09T15:38:01.845026+00:00",
          "2024-02-09T15:39:02.240811+00:00",
          "2024-02-09T15:40:01.979863+00:00",
          "2024-02-09T15:41:01.662498+00:00",
          "2024-02-09T15:42:01.869040+00:00",
          "2024-02-09T15:43:01.723722+00:00",
          "2024-02-09T15:44:01.609443+00:00",
          "2024-02-09T15:45:02.037399+00:00",
          "2024-02-09T15:46:02.381925+00:00",
          "2024-02-09T15:47:02.248575+00:00",
          "2024-02-09T15:48:01.970740+00:00",
          "2024-02-09T15:49:02.090598+00:00",
          "2024-02-09T15:50:01.940947+00:00",
          "2024-02-09T15:51:01.765290+00:00",
          "2024-02-09T15:52:02.042121+00:00",
          "2024-02-09T15:53:01.874603+00:00",
          "2024-02-09T15:54:01.421353+00:00",
          "2024-02-09T15:55:01.814233+00:00",
          "2024-02-09T15:56:01.578321+00:00",
          "2024-02-09T15:57:01.821604+00:00",
          "2024-02-09T15:58:01.653537+00:00",
          "2024-02-09T15:59:01.613291+00:00",
          "2024-02-09T16:00:01.707258+00:00",
          "2024-02-09T16:01:01.481279+00:00",
          "2024-02-09T16:02:01.937362+00:00",
          "2024-02-09T16:03:01.589539+00:00",
          "2024-02-09T16:04:01.698330+00:00",
          "2024-02-09T16:05:02.175571+00:00",
          "2024-02-09T16:06:01.910643+00:00",
          "2024-02-09T16:07:01.676191+00:00",
          "2024-02-09T16:08:01.624152+00:00",
          "2024-02-09T16:09:02.192596+00:00",
          "2024-02-09T16:10:01.414302+00:00",
          "2024-02-09T16:11:02.034227+00:00",
          "2024-02-09T16:12:01.685900+00:00",
          "2024-02-09T16:13:02.197971+00:00",
          "2024-02-09T16:14:01.665548+00:00",
          "2024-02-09T16:15:01.455569+00:00",
          "2024-02-09T16:16:01.732681+00:00",
          "2024-02-09T16:17:01.894794+00:00",
          "2024-02-09T16:18:02.107299+00:00",
          "2024-02-09T16:19:02.293819+00:00",
          "2024-02-09T16:20:02.285353+00:00",
          "2024-02-09T16:21:01.717938+00:00",
          "2024-02-09T16:22:02.074351+00:00",
          "2024-02-09T16:23:01.502311+00:00",
          "2024-02-09T16:24:01.893109+00:00",
          "2024-02-09T16:25:01.648557+00:00",
          "2024-02-09T16:26:01.889347+00:00",
          "2024-02-09T16:27:01.942850+00:00",
          "2024-02-09T16:28:01.938619+00:00",
          "2024-02-09T16:29:02.366197+00:00",
          "2024-02-09T16:30:02.717556+00:00",
          "2024-02-09T16:31:02.420693+00:00",
          "2024-02-09T16:32:02.237861+00:00",
          "2024-02-09T16:33:02.225153+00:00",
          "2024-02-09T16:34:02.009657+00:00",
          "2024-02-09T16:35:02.012056+00:00",
          "2024-02-09T16:36:01.663424+00:00",
          "2024-02-09T16:37:01.832854+00:00",
          "2024-02-09T16:38:01.748021+00:00",
          "2024-02-09T16:39:02.137221+00:00",
          "2024-02-09T16:40:02.297643+00:00",
          "2024-02-09T16:41:02.013740+00:00",
          "2024-02-09T16:42:01.965947+00:00",
          "2024-02-09T16:43:02.022716+00:00",
          "2024-02-09T16:44:01.901416+00:00",
          "2024-02-09T16:45:01.721195+00:00",
          "2024-02-09T16:46:01.714577+00:00",
          "2024-02-09T16:47:01.887847+00:00",
          "2024-02-09T16:48:01.927089+00:00",
          "2024-02-09T16:49:01.655368+00:00",
          "2024-02-09T16:50:02.406725+00:00",
          "2024-02-09T16:51:01.613519+00:00",
          "2024-02-09T16:52:02.059316+00:00",
          "2024-02-09T16:53:02.006585+00:00",
          "2024-02-09T16:54:02.285457+00:00",
          "2024-02-09T16:55:02.185905+00:00",
          "2024-02-09T16:56:02.329622+00:00",
          "2024-02-09T16:57:02.024157+00:00",
          "2024-02-09T16:58:02.188874+00:00",
          "2024-02-09T16:59:02.212280+00:00",
          "2024-02-09T17:00:01.610802+00:00",
          "2024-02-09T17:01:02.019009+00:00",
          "2024-02-09T17:02:01.993002+00:00",
          "2024-02-09T17:03:02.330873+00:00",
          "2024-02-09T17:04:01.883254+00:00",
          "2024-02-09T17:05:02.156402+00:00",
          "2024-02-09T17:06:01.624011+00:00",
          "2024-02-09T17:07:02.162073+00:00",
          "2024-02-09T17:08:02.038374+00:00",
          "2024-02-09T17:09:01.968640+00:00",
          "2024-02-09T17:10:01.982138+00:00",
          "2024-02-09T17:11:01.580082+00:00",
          "2024-02-09T17:12:01.782791+00:00",
          "2024-02-09T17:13:01.968418+00:00",
          "2024-02-09T17:14:02.044846+00:00",
          "2024-02-09T17:15:02.014490+00:00",
          "2024-02-09T17:16:02.051977+00:00",
          "2024-02-09T17:17:01.874398+00:00",
          "2024-02-09T17:18:01.778326+00:00",
          "2024-02-09T17:19:02.437730+00:00",
          "2024-02-09T17:20:01.717404+00:00",
          "2024-02-09T17:21:02.306583+00:00",
          "2024-02-09T17:22:01.881201+00:00",
          "2024-02-09T17:23:02.085805+00:00",
          "2024-02-09T17:24:01.806543+00:00",
          "2024-02-09T17:25:01.946073+00:00",
          "2024-02-09T17:26:02.258735+00:00",
          "2024-02-09T17:27:01.790348+00:00",
          "2024-02-09T17:28:01.957006+00:00",
          "2024-02-09T17:29:02.095251+00:00",
          "2024-02-09T17:30:01.933084+00:00",
          "2024-02-09T17:31:02.521741+00:00",
          "2024-02-09T17:32:01.965033+00:00",
          "2024-02-09T17:33:01.991580+00:00",
          "2024-02-09T17:34:01.850599+00:00",
          "2024-02-09T17:35:01.557907+00:00",
          "2024-02-09T17:36:01.609975+00:00",
          "2024-02-09T17:37:02.024930+00:00",
          "2024-02-09T17:38:02.178758+00:00",
          "2024-02-09T17:39:01.939896+00:00",
          "2024-02-09T17:40:02.009843+00:00",
          "2024-02-09T17:41:02.455162+00:00",
          "2024-02-09T17:42:02.299024+00:00",
          "2024-02-09T17:43:02.026221+00:00",
          "2024-02-09T17:44:01.489659+00:00",
          "2024-02-09T17:45:02.048609+00:00",
          "2024-02-09T17:46:01.579808+00:00",
          "2024-02-09T17:47:01.504284+00:00",
          "2024-02-09T17:48:01.632121+00:00",
          "2024-02-09T17:49:01.608714+00:00",
          "2024-02-09T17:50:01.846540+00:00",
          "2024-02-09T17:51:01.625896+00:00",
          "2024-02-09T17:52:02.038473+00:00",
          "2024-02-09T17:53:02.108803+00:00",
          "2024-02-09T17:54:02.408946+00:00",
          "2024-02-09T17:55:01.911853+00:00",
          "2024-02-09T17:56:01.888558+00:00",
          "2024-02-09T17:57:02.182686+00:00",
          "2024-02-09T17:58:02.107972+00:00",
          "2024-02-09T17:59:01.600782+00:00",
          "2024-02-09T18:00:01.716711+00:00"
         ],
         "y": [
          170.11790107398338,
          170.29595472144226,
          170.50859580535587,
          170.60494985136594,
          170.70283247511222,
          170.79756172574423,
          170.85518863071212,
          170.93117200809735,
          170.99093914738825,
          171.04389804133274,
          171.10302509241924,
          171.14779504103515,
          171.1909052666005,
          171.22249592384836,
          171.2706641899352,
          171.31973174849534,
          171.35489070384742,
          171.37815428018286,
          171.39982807018146,
          171.42039114046602,
          171.4466951847094,
          171.47372095670823,
          171.4920611416771,
          171.50607032517118,
          171.5152276425797,
          171.52757678362232,
          171.53006118668404,
          171.53594223862834,
          171.53650859683466,
          171.53287956696047,
          171.52787572974557,
          171.51825879905357,
          171.50747008783952,
          171.49216786314122,
          171.47109151646055,
          171.44547717690196,
          171.41339533461996,
          171.37299123626983,
          171.32008319368387,
          171.24369745641607,
          171.24313294437343,
          171.2318534088913,
          171.16691369734983,
          171.15561387505673,
          171.13679478180683,
          171.11165689117485,
          171.1196514204207,
          171.10611817177892,
          171.1102100941301,
          171.13365848074713,
          171.14342977434669,
          171.1662672920539,
          171.19052434199315,
          171.22628951821378,
          171.24340858156808,
          171.25454486859957,
          171.28124297079808,
          171.3222163143311,
          171.37601844540612,
          171.43191400426377,
          171.49122332529672,
          171.5421676641966,
          171.6050539049769,
          171.68890394786786,
          171.76391943060077,
          171.85638330320154,
          171.97421507356412,
          172.07596289129245,
          172.17879582097953,
          172.28667111781297,
          172.3815557803251,
          172.46235587701668,
          172.55323264221565,
          172.64733573857512,
          172.72951256403272,
          172.80376635170714,
          172.88900887570634,
          172.97992316477257,
          173.07964107676003,
          173.15908438047296,
          173.23579975331165,
          173.2954348113023,
          173.33674560091077,
          173.37191538169333,
          173.41864887475074,
          173.46166494398486,
          173.5068998488456,
          173.5311697488537,
          173.55319394671488,
          173.57650302469648,
          173.6077943278758,
          173.629929823037,
          173.64977003477117,
          173.65710689442562,
          173.65410964456,
          173.63768316029,
          173.6190244949401,
          173.59951759211538,
          173.5868960280201,
          173.57008670625785,
          173.55119326778046,
          173.51341892722604,
          173.47520551289816,
          173.44617642241295,
          173.40735040248222,
          173.38127401491687,
          173.37183402597307,
          173.35633728725185,
          173.34490865160853,
          173.34131846841652,
          173.3343045149574,
          173.32261121017012,
          173.322173395002,
          173.32328704728835,
          173.32379924749463,
          173.32409173457216,
          173.32512445996133,
          173.3274944041011,
          173.3194814459655,
          173.32107607029715,
          173.3111164688498,
          173.30453098497173,
          173.30479358707663,
          173.30432909369563,
          173.2910107265208,
          173.2778167548365,
          173.26051361861653,
          173.26889118691298,
          173.28281493744512,
          173.28748156792702,
          173.300064437447,
          173.3336288327748,
          173.36575798694025,
          173.40811655967045,
          173.45315669965584,
          173.4999511146504,
          173.5292375765101,
          173.56880670825367,
          173.60267066217293,
          173.63320744713027,
          173.66249493390282,
          173.71152020540063,
          173.76415550785535,
          173.81019295893717,
          173.8295479150389,
          173.85321142462033,
          173.8710778026826,
          173.88951265599363,
          173.9050313382752,
          173.91303958273926,
          173.9177204814455,
          173.9213768194611,
          173.9227024556611,
          173.92685390166181,
          173.9309869674393,
          173.93025605290816,
          173.92814673257215,
          173.92192944480354,
          173.9091595830529,
          173.89663438501293,
          173.88661878244815,
          173.8748846005905,
          173.85685789185018,
          173.83911564848526,
          173.82200924063946,
          173.81505809451374,
          173.80473517464435,
          173.8040308937735,
          173.80611010236493,
          173.80397386471424,
          173.80345477467083,
          173.80226208062254,
          173.80088643735212,
          173.79563500704612,
          173.7885484252311,
          173.78191341432037,
          173.78081832053797,
          173.77517704084656,
          173.76944782835324,
          173.76246048681304,
          173.75788858623238,
          173.7362781288699,
          173.7152789852123,
          173.69482840599767,
          173.70294667784358,
          173.70448101983374,
          173.73259659761476,
          173.76485245379305,
          173.7985850319693,
          173.83604558497953,
          173.87032841633393,
          173.90694987024193,
          173.94065970098575,
          173.9657094349099,
          173.99267711671888,
          174.01347334331214,
          174.03624796416736,
          174.07030757225937,
          174.08718469544152,
          174.1073742076606,
          174.1304151153234,
          174.15113023779998,
          174.17340199615137,
          174.20248900427532,
          174.2205755060973,
          174.2427860460006,
          174.2676874866627,
          174.28725001156036,
          174.30697800495147,
          174.32797800495152,
          174.34366742800114
         ]
        },
        {
         "mode": "lines",
         "name": "Lower Band",
         "type": "scatter",
         "x": [
          "2024-02-09T14:30:02.127797+00:00",
          "2024-02-09T14:31:01.714015+00:00",
          "2024-02-09T14:32:02.920865+00:00",
          "2024-02-09T14:33:02.987125+00:00",
          "2024-02-09T14:34:01.487473+00:00",
          "2024-02-09T14:35:01.593323+00:00",
          "2024-02-09T14:36:01.960080+00:00",
          "2024-02-09T14:37:01.556329+00:00",
          "2024-02-09T14:38:01.582862+00:00",
          "2024-02-09T14:39:02.601314+00:00",
          "2024-02-09T14:40:01.579340+00:00",
          "2024-02-09T14:41:01.318274+00:00",
          "2024-02-09T14:42:01.342842+00:00",
          "2024-02-09T14:43:01.535376+00:00",
          "2024-02-09T14:44:01.343894+00:00",
          "2024-02-09T14:45:01.815580+00:00",
          "2024-02-09T14:46:01.780221+00:00",
          "2024-02-09T14:47:01.385904+00:00",
          "2024-02-09T14:48:01.729837+00:00",
          "2024-02-09T14:49:01.997433+00:00",
          "2024-02-09T14:50:01.704791+00:00",
          "2024-02-09T14:51:01.720142+00:00",
          "2024-02-09T14:52:01.667969+00:00",
          "2024-02-09T14:53:02.164660+00:00",
          "2024-02-09T14:54:01.549426+00:00",
          "2024-02-09T14:55:02.255871+00:00",
          "2024-02-09T14:56:01.690309+00:00",
          "2024-02-09T14:57:01.681709+00:00",
          "2024-02-09T14:58:01.908129+00:00",
          "2024-02-09T14:59:01.878586+00:00",
          "2024-02-09T15:00:02.088034+00:00",
          "2024-02-09T15:01:01.964273+00:00",
          "2024-02-09T15:02:01.992559+00:00",
          "2024-02-09T15:03:01.515098+00:00",
          "2024-02-09T15:04:01.807769+00:00",
          "2024-02-09T15:05:01.509277+00:00",
          "2024-02-09T15:06:02.084547+00:00",
          "2024-02-09T15:07:01.703511+00:00",
          "2024-02-09T15:08:01.950054+00:00",
          "2024-02-09T15:09:01.479705+00:00",
          "2024-02-09T15:10:01.703533+00:00",
          "2024-02-09T15:11:01.702554+00:00",
          "2024-02-09T15:12:01.733206+00:00",
          "2024-02-09T15:13:01.450694+00:00",
          "2024-02-09T15:14:01.509737+00:00",
          "2024-02-09T15:15:01.818569+00:00",
          "2024-02-09T15:16:02.050439+00:00",
          "2024-02-09T15:17:01.981130+00:00",
          "2024-02-09T15:18:01.928485+00:00",
          "2024-02-09T15:19:01.701443+00:00",
          "2024-02-09T15:20:02.022536+00:00",
          "2024-02-09T15:21:01.687108+00:00",
          "2024-02-09T15:22:01.879961+00:00",
          "2024-02-09T15:23:01.747528+00:00",
          "2024-02-09T15:24:01.658198+00:00",
          "2024-02-09T15:25:02.420142+00:00",
          "2024-02-09T15:26:01.317792+00:00",
          "2024-02-09T15:27:01.553537+00:00",
          "2024-02-09T15:28:02.038877+00:00",
          "2024-02-09T15:29:01.654663+00:00",
          "2024-02-09T15:30:01.704845+00:00",
          "2024-02-09T15:31:01.684073+00:00",
          "2024-02-09T15:32:01.996497+00:00",
          "2024-02-09T15:33:01.593404+00:00",
          "2024-02-09T15:34:01.975894+00:00",
          "2024-02-09T15:35:02.072199+00:00",
          "2024-02-09T15:36:02.052021+00:00",
          "2024-02-09T15:37:01.985986+00:00",
          "2024-02-09T15:38:01.845026+00:00",
          "2024-02-09T15:39:02.240811+00:00",
          "2024-02-09T15:40:01.979863+00:00",
          "2024-02-09T15:41:01.662498+00:00",
          "2024-02-09T15:42:01.869040+00:00",
          "2024-02-09T15:43:01.723722+00:00",
          "2024-02-09T15:44:01.609443+00:00",
          "2024-02-09T15:45:02.037399+00:00",
          "2024-02-09T15:46:02.381925+00:00",
          "2024-02-09T15:47:02.248575+00:00",
          "2024-02-09T15:48:01.970740+00:00",
          "2024-02-09T15:49:02.090598+00:00",
          "2024-02-09T15:50:01.940947+00:00",
          "2024-02-09T15:51:01.765290+00:00",
          "2024-02-09T15:52:02.042121+00:00",
          "2024-02-09T15:53:01.874603+00:00",
          "2024-02-09T15:54:01.421353+00:00",
          "2024-02-09T15:55:01.814233+00:00",
          "2024-02-09T15:56:01.578321+00:00",
          "2024-02-09T15:57:01.821604+00:00",
          "2024-02-09T15:58:01.653537+00:00",
          "2024-02-09T15:59:01.613291+00:00",
          "2024-02-09T16:00:01.707258+00:00",
          "2024-02-09T16:01:01.481279+00:00",
          "2024-02-09T16:02:01.937362+00:00",
          "2024-02-09T16:03:01.589539+00:00",
          "2024-02-09T16:04:01.698330+00:00",
          "2024-02-09T16:05:02.175571+00:00",
          "2024-02-09T16:06:01.910643+00:00",
          "2024-02-09T16:07:01.676191+00:00",
          "2024-02-09T16:08:01.624152+00:00",
          "2024-02-09T16:09:02.192596+00:00",
          "2024-02-09T16:10:01.414302+00:00",
          "2024-02-09T16:11:02.034227+00:00",
          "2024-02-09T16:12:01.685900+00:00",
          "2024-02-09T16:13:02.197971+00:00",
          "2024-02-09T16:14:01.665548+00:00",
          "2024-02-09T16:15:01.455569+00:00",
          "2024-02-09T16:16:01.732681+00:00",
          "2024-02-09T16:17:01.894794+00:00",
          "2024-02-09T16:18:02.107299+00:00",
          "2024-02-09T16:19:02.293819+00:00",
          "2024-02-09T16:20:02.285353+00:00",
          "2024-02-09T16:21:01.717938+00:00",
          "2024-02-09T16:22:02.074351+00:00",
          "2024-02-09T16:23:01.502311+00:00",
          "2024-02-09T16:24:01.893109+00:00",
          "2024-02-09T16:25:01.648557+00:00",
          "2024-02-09T16:26:01.889347+00:00",
          "2024-02-09T16:27:01.942850+00:00",
          "2024-02-09T16:28:01.938619+00:00",
          "2024-02-09T16:29:02.366197+00:00",
          "2024-02-09T16:30:02.717556+00:00",
          "2024-02-09T16:31:02.420693+00:00",
          "2024-02-09T16:32:02.237861+00:00",
          "2024-02-09T16:33:02.225153+00:00",
          "2024-02-09T16:34:02.009657+00:00",
          "2024-02-09T16:35:02.012056+00:00",
          "2024-02-09T16:36:01.663424+00:00",
          "2024-02-09T16:37:01.832854+00:00",
          "2024-02-09T16:38:01.748021+00:00",
          "2024-02-09T16:39:02.137221+00:00",
          "2024-02-09T16:40:02.297643+00:00",
          "2024-02-09T16:41:02.013740+00:00",
          "2024-02-09T16:42:01.965947+00:00",
          "2024-02-09T16:43:02.022716+00:00",
          "2024-02-09T16:44:01.901416+00:00",
          "2024-02-09T16:45:01.721195+00:00",
          "2024-02-09T16:46:01.714577+00:00",
          "2024-02-09T16:47:01.887847+00:00",
          "2024-02-09T16:48:01.927089+00:00",
          "2024-02-09T16:49:01.655368+00:00",
          "2024-02-09T16:50:02.406725+00:00",
          "2024-02-09T16:51:01.613519+00:00",
          "2024-02-09T16:52:02.059316+00:00",
          "2024-02-09T16:53:02.006585+00:00",
          "2024-02-09T16:54:02.285457+00:00",
          "2024-02-09T16:55:02.185905+00:00",
          "2024-02-09T16:56:02.329622+00:00",
          "2024-02-09T16:57:02.024157+00:00",
          "2024-02-09T16:58:02.188874+00:00",
          "2024-02-09T16:59:02.212280+00:00",
          "2024-02-09T17:00:01.610802+00:00",
          "2024-02-09T17:01:02.019009+00:00",
          "2024-02-09T17:02:01.993002+00:00",
          "2024-02-09T17:03:02.330873+00:00",
          "2024-02-09T17:04:01.883254+00:00",
          "2024-02-09T17:05:02.156402+00:00",
          "2024-02-09T17:06:01.624011+00:00",
          "2024-02-09T17:07:02.162073+00:00",
          "2024-02-09T17:08:02.038374+00:00",
          "2024-02-09T17:09:01.968640+00:00",
          "2024-02-09T17:10:01.982138+00:00",
          "2024-02-09T17:11:01.580082+00:00",
          "2024-02-09T17:12:01.782791+00:00",
          "2024-02-09T17:13:01.968418+00:00",
          "2024-02-09T17:14:02.044846+00:00",
          "2024-02-09T17:15:02.014490+00:00",
          "2024-02-09T17:16:02.051977+00:00",
          "2024-02-09T17:17:01.874398+00:00",
          "2024-02-09T17:18:01.778326+00:00",
          "2024-02-09T17:19:02.437730+00:00",
          "2024-02-09T17:20:01.717404+00:00",
          "2024-02-09T17:21:02.306583+00:00",
          "2024-02-09T17:22:01.881201+00:00",
          "2024-02-09T17:23:02.085805+00:00",
          "2024-02-09T17:24:01.806543+00:00",
          "2024-02-09T17:25:01.946073+00:00",
          "2024-02-09T17:26:02.258735+00:00",
          "2024-02-09T17:27:01.790348+00:00",
          "2024-02-09T17:28:01.957006+00:00",
          "2024-02-09T17:29:02.095251+00:00",
          "2024-02-09T17:30:01.933084+00:00",
          "2024-02-09T17:31:02.521741+00:00",
          "2024-02-09T17:32:01.965033+00:00",
          "2024-02-09T17:33:01.991580+00:00",
          "2024-02-09T17:34:01.850599+00:00",
          "2024-02-09T17:35:01.557907+00:00",
          "2024-02-09T17:36:01.609975+00:00",
          "2024-02-09T17:37:02.024930+00:00",
          "2024-02-09T17:38:02.178758+00:00",
          "2024-02-09T17:39:01.939896+00:00",
          "2024-02-09T17:40:02.009843+00:00",
          "2024-02-09T17:41:02.455162+00:00",
          "2024-02-09T17:42:02.299024+00:00",
          "2024-02-09T17:43:02.026221+00:00",
          "2024-02-09T17:44:01.489659+00:00",
          "2024-02-09T17:45:02.048609+00:00",
          "2024-02-09T17:46:01.579808+00:00",
          "2024-02-09T17:47:01.504284+00:00",
          "2024-02-09T17:48:01.632121+00:00",
          "2024-02-09T17:49:01.608714+00:00",
          "2024-02-09T17:50:01.846540+00:00",
          "2024-02-09T17:51:01.625896+00:00",
          "2024-02-09T17:52:02.038473+00:00",
          "2024-02-09T17:53:02.108803+00:00",
          "2024-02-09T17:54:02.408946+00:00",
          "2024-02-09T17:55:01.911853+00:00",
          "2024-02-09T17:56:01.888558+00:00",
          "2024-02-09T17:57:02.182686+00:00",
          "2024-02-09T17:58:02.107972+00:00",
          "2024-02-09T17:59:01.600782+00:00",
          "2024-02-09T18:00:01.716711+00:00"
         ],
         "y": [
          169.61509892601663,
          169.50304527855778,
          169.3784041946442,
          169.34605014863408,
          169.31666752488778,
          169.29293827425573,
          169.29181136928787,
          169.28382799190268,
          169.28606085261174,
          169.29310195866725,
          169.2994749075808,
          169.31320495896486,
          169.32909473339947,
          169.34950407615165,
          169.3668358100648,
          169.3857682515047,
          169.41060929615261,
          169.43884571981715,
          169.46867192981853,
          169.50010885953398,
          169.53280481529063,
          169.56727904329182,
          169.60443885832288,
          169.6434296748288,
          169.68377235742025,
          169.72692321637768,
          169.76993881331597,
          169.81705776137167,
          169.86549140316532,
          169.9151204330395,
          169.9681242702544,
          170.02224120094638,
          170.08152991216048,
          170.1438321368588,
          170.2074084835395,
          170.277022823098,
          170.35210466538,
          170.43600876373014,
          170.53591680631612,
          170.65980254358394,
          170.65686705562655,
          170.64864659110867,
          170.6685863026502,
          170.66588612494323,
          170.66920521819316,
          170.6773431088252,
          170.6758485795793,
          170.6813818282211,
          170.6797899058699,
          170.66884151925288,
          170.66407022565332,
          170.65523270794606,
          170.64597565800685,
          170.63621048178624,
          170.62909141843198,
          170.62445513140045,
          170.61575702920192,
          170.6067836856689,
          170.59198155459384,
          170.57758599573623,
          170.55727667470327,
          170.54183233580335,
          170.52644609502312,
          170.50359605213214,
          170.49258056939925,
          170.46861669679845,
          170.4432849264359,
          170.42453710870754,
          170.41320417902045,
          170.406328882187,
          170.40844421967492,
          170.4251441229833,
          170.43576735778433,
          170.45016426142485,
          170.47948743596723,
          170.5142336482929,
          170.54899112429365,
          170.58457683522744,
          170.61585892323995,
          170.660415619527,
          170.70770024668832,
          170.77006518869774,
          170.84825439908923,
          170.92208461830666,
          170.99235112524926,
          171.06683505601515,
          171.13160015115443,
          171.21083025114632,
          171.28780605328512,
          171.35599697530353,
          171.42970567212421,
          171.50707017696305,
          171.5872299652288,
          171.66739310557438,
          171.75889035544,
          171.85981683971,
          171.96147550505992,
          172.05898240788463,
          172.1486039719799,
          172.23941329374216,
          172.32780673221956,
          172.427581072774,
          172.52229448710185,
          172.594323577587,
          172.67964959751782,
          172.74422598508312,
          172.7756659740269,
          172.81416271274816,
          172.83959134839148,
          172.84818153158355,
          172.86419548504256,
          172.88638878982988,
          172.88732660499804,
          172.88371295271165,
          172.88220075250538,
          172.8814082654278,
          172.8688755400387,
          172.83950559589894,
          172.8085185540345,
          172.77292392970284,
          172.7513835311502,
          172.73396901502826,
          172.71320641292334,
          172.70017090630438,
          172.69398927347922,
          172.6956832451635,
          172.69848638138347,
          172.69660881308704,
          172.69268506255483,
          172.692018432073,
          172.685435562553,
          172.66787116722517,
          172.65124201305974,
          172.63388344032958,
          172.61734330034415,
          172.60504888534962,
          172.60126242348989,
          172.5931932917463,
          172.58482933782707,
          172.57879255286971,
          172.57400506609721,
          172.56747979459936,
          172.56034449214465,
          172.56030704106288,
          172.5679520849611,
          172.5732885753797,
          172.5824221973174,
          172.59298734400633,
          172.60896866172482,
          172.62796041726074,
          172.6437795185545,
          172.66162318053887,
          172.6812975443389,
          172.70064609833818,
          172.72101303256068,
          172.73724394709186,
          172.74885326742788,
          172.7835705551965,
          172.8238404169471,
          172.8788656149871,
          172.92838121755184,
          172.97511539940948,
          173.0331421081498,
          173.08788435151476,
          173.1289907593605,
          173.15394190548625,
          173.18276482535566,
          173.1939691062265,
          173.2028898976351,
          173.21902613528573,
          173.2175452253292,
          173.21723791937745,
          173.21711356264785,
          173.2158649929539,
          173.2154515747689,
          173.21608658567956,
          173.21568167946205,
          173.21632295915342,
          173.2170521716468,
          173.217039513187,
          173.21761141376757,
          173.22572187113008,
          173.23722101478768,
          173.24817159400232,
          173.24605332215637,
          173.24551898016625,
          173.23340340238525,
          173.21914754620698,
          173.20641496803069,
          173.19845441502045,
          173.19817158366604,
          173.19855012975808,
          173.20484029901422,
          173.21079056509006,
          173.21582288328113,
          173.23652665668786,
          173.26875203583265,
          173.2816924277406,
          173.31181530455848,
          173.3231257923394,
          173.33258488467663,
          173.34636976220008,
          173.35759800384864,
          173.3665109957247,
          173.3919244939027,
          173.41221395399938,
          173.4343125133373,
          173.4552499884396,
          173.47202199504852,
          173.4930219950485,
          173.52133257199887
         ]
        },
        {
         "close": [
          171.60000610351562,
          171.20809936523438,
          170.9698944091797,
          171.0800018310547,
          171.1300048828125,
          171.0135955810547,
          171.14999389648438,
          171.0399932861328,
          170.86000061035156,
          171.01600646972656,
          170.9499969482422,
          170.8000030517578,
          170.77000427246094,
          170.8350067138672,
          170.7899932861328,
          170.85499572753906,
          170.69000244140625,
          170.6999969482422,
          170.77999877929688,
          170.83009338378906,
          170.6999969482422,
          170.89999389648438,
          171.08999633789062,
          171.13499450683594,
          171.27000427246094,
          171.32269287109375,
          171.32000732421875,
          171.40499877929688,
          171.64500427246094,
          171.76980590820312,
          171.89840698242188,
          172.10499572753906,
          172.59500122070312,
          172.6199951171875,
          172.7550048828125,
          172.82980346679688,
          172.91000366210938,
          173.08599853515625,
          173.3905029296875,
          173.2899932861328,
          173.08009338378906,
          173.02499389648438,
          173.29840087890625,
          173.10589599609375,
          173.35000610351562,
          173.32000732421875,
          173.1199951171875,
          173.05999755859375,
          173.13999938964844,
          173.0850067138672,
          173.03379821777344,
          173.0399932861328,
          173.03030395507812,
          172.92999267578125,
          172.92010498046875,
          172.83999633789062,
          172.89999389648438,
          172.8699951171875,
          172.6300048828125,
          172.6699981689453,
          172.6750030517578,
          172.85499572753906,
          173.0050048828125,
          173.28570556640625,
          173.4600067138672,
          173.6300048828125,
          173.68499755859375,
          173.56500244140625,
          173.6999969482422,
          173.65499877929688,
          173.94000244140625,
          173.5749969482422,
          173.57620239257812,
          173.55999755859375,
          173.33990478515625,
          173.27000427246094,
          173.38499450683594,
          173.0601043701172,
          173.1699981689453,
          173.4600067138672,
          173.47999572753906,
          173.3249969482422,
          173.38999938964844,
          173.5399932861328,
          173.39999389648438,
          173.59030151367188,
          173.5399932861328,
          173.5500030517578,
          173.60009765625,
          173.60000610351562,
          173.7449951171875,
          173.69000244140625,
          173.875,
          173.97999572753906,
          174.01300048828125,
          174.07989501953125,
          174.0399932861328,
          174.17999267578125,
          174.11000061035156,
          174.11000061035156,
          174.14999389648438,
          174.1999969482422,
          174.32000732421875,
          174.2550048828125,
          174.3096923828125,
          174.3699951171875,
          174.47999572753906,
          174.4499969482422,
          174.24000549316406,
          174.27830505371094,
          174.27999877929688,
          174.22500610351562,
          174.27999877929688,
          174.2104949951172,
          174.13499450683594,
          174.21499633789062,
          174.27000427246094,
          174.27520751953125,
          174.27000427246094,
          174.27000427246094,
          174.2949981689453,
          174.3350067138672,
          174.25010681152344,
          174.2736053466797,
          174.35499572753906,
          174.35000610351562,
          174.30499267578125,
          174.41000366210938,
          174.44000244140625,
          174.63009643554688,
          174.56500244140625,
          174.47999572753906,
          174.40499877929688,
          174.5,
          174.51499938964844,
          174.50999450683594,
          174.4600067138672,
          174.5500030517578,
          174.5449981689453,
          174.51499938964844,
          174.5,
          174.5050048828125,
          174.52999877929688,
          174.523193359375,
          174.5574951171875,
          174.5749969482422,
          174.62989807128906,
          174.6699981689453,
          174.7449951171875,
          174.77499389648438,
          174.75999450683594,
          174.7550048828125,
          174.75,
          174.83990478515625,
          174.83999633789062,
          174.9199981689453,
          174.87010192871094,
          174.8699951171875
         ],
         "high": [
          171.6999969482422,
          171.61000061035156,
          171.3699951171875,
          171.41000366210938,
          171.1300048828125,
          171.16000366210938,
          171.1699981689453,
          171.22000122070312,
          171.0399932861328,
          171.07000732421875,
          171.0800018310547,
          171.02000427246094,
          170.99000549316406,
          171,
          170.8699951171875,
          171.0399932861328,
          170.86000061035156,
          170.77000427246094,
          170.8000030517578,
          170.91000366210938,
          170.8699951171875,
          170.89999389648438,
          171.10000610351562,
          171.14999389648438,
          171.389892578125,
          171.36000061035156,
          171.41000366210938,
          171.44000244140625,
          171.66000366210938,
          171.8000030517578,
          171.94000244140625,
          172.19000244140625,
          172.6300048828125,
          172.6999969482422,
          172.85000610351562,
          172.8699951171875,
          172.97999572753906,
          173.16000366210938,
          173.44000244140625,
          173.4600067138672,
          173.32000732421875,
          173.1199951171875,
          173.3300018310547,
          173.30999755859375,
          173.36000061035156,
          173.39999389648438,
          173.3300018310547,
          173.14500427246094,
          173.2050018310547,
          173.19239807128906,
          173.17999267578125,
          173.0800018310547,
          173.11000061035156,
          173.0449981689453,
          173.02000427246094,
          172.9250030517578,
          172.91000366210938,
          172.89999389648438,
          172.89999389648438,
          172.6999969482422,
          172.7899932861328,
          172.89999389648438,
          173.10499572753906,
          173.38999938964844,
          173.4600067138672,
          173.6699981689453,
          173.69000244140625,
          173.72999572753906,
          173.7100067138672,
          173.7100067138672,
          173.9499969482422,
          173.99000549316406,
          173.78500366210938,
          173.66000366210938,
          173.57000732421875,
          173.44000244140625,
          173.47000122070312,
          173.38999938964844,
          173.27000427246094,
          173.4759979248047,
          173.52999877929688,
          173.49000549316406,
          173.47999572753906,
          173.60000610351562,
          173.53500366210938,
          173.60000610351562,
          173.61000061035156,
          173.60000610351562,
          173.61000061035156,
          173.61000061035156,
          173.78990173339844,
          173.75979614257812,
          173.88600158691406,
          174,
          174.1300048828125,
          174.1199951171875,
          174.0800018310547,
          174.17999267578125,
          174.2100067138672,
          174.1280975341797,
          174.1920928955078,
          174.2899932861328,
          174.3300018310547,
          174.35000610351562,
          174.36000061035156,
          174.39999389648438,
          174.5,
          174.4799041748047,
          174.4499969482422,
          174.3000030517578,
          174.3000030517578,
          174.3000030517578,
          174.3000030517578,
          174.3000030517578,
          174.22500610351562,
          174.22000122070312,
          174.29769897460938,
          174.3000030517578,
          174.3000030517578,
          174.3000030517578,
          174.3000030517578,
          174.3699951171875,
          174.35000610351562,
          174.3699951171875,
          174.3699951171875,
          174.39999389648438,
          174.3800048828125,
          174.4600067138672,
          174.4600067138672,
          174.68499755859375,
          174.6300048828125,
          174.5675048828125,
          174.55999755859375,
          174.5500030517578,
          174.5500030517578,
          174.55999755859375,
          174.5399932861328,
          174.55499267578125,
          174.55999755859375,
          174.55499267578125,
          174.5500030517578,
          174.58999633789062,
          174.57000732421875,
          174.57000732421875,
          174.5699005126953,
          174.6300048828125,
          174.63499450683594,
          174.67999267578125,
          174.7449951171875,
          174.77999877929688,
          174.8000030517578,
          174.77000427246094,
          174.8000030517578,
          174.85000610351562,
          174.85000610351562,
          174.9250030517578,
          174.92999267578125,
          174.8699951171875
         ],
         "low": [
          171.1300048828125,
          170.97500610351562,
          170.8300018310547,
          170.8800048828125,
          170.99000549316406,
          171,
          170.77000427246094,
          170.97000122070312,
          170.82000732421875,
          170.82000732421875,
          170.86000061035156,
          170.77859497070312,
          170.77000427246094,
          170.75,
          170.72999572753906,
          170.6199951171875,
          170.6649932861328,
          170.58030700683594,
          170.6999969482422,
          170.7523956298828,
          170.6999969482422,
          170.6999969482422,
          170.8300018310547,
          171,
          171.125,
          171.2480010986328,
          171.25,
          171.32000732421875,
          171.3699951171875,
          171.60000610351562,
          171.72999572753906,
          171.835693359375,
          172.10000610351562,
          172.41000366210938,
          172.60499572753906,
          172.60000610351562,
          172.77999877929688,
          172.87010192871094,
          173.06939697265625,
          173.17999267578125,
          173.0399932861328,
          173.00999450683594,
          173.1999969482422,
          173.02670288085938,
          173.02999877929688,
          173.16000366210938,
          173.07000732421875,
          172.94000244140625,
          173.02000427246094,
          173,
          172.91000366210938,
          172.9600067138672,
          173.0001983642578,
          172.9199981689453,
          172.83999633789062,
          172.79100036621094,
          172.83999633789062,
          172.77000427246094,
          172.61000061035156,
          172.56399536132812,
          172.66000366210938,
          172.66000366210938,
          172.8300018310547,
          173,
          173.1300048828125,
          173.4600067138672,
          173.62100219726562,
          173.5399932861328,
          173.56170654296875,
          173.63400268554688,
          173.63999938964844,
          173.55999755859375,
          173.5399932861328,
          173.52000427246094,
          173.3300018310547,
          173.23500061035156,
          173.2550048828125,
          173.05999755859375,
          173.06300354003906,
          173.14500427246094,
          173.33999633789062,
          173.3249969482422,
          173.32000732421875,
          173.38499450683594,
          173.37010192871094,
          173.4199981689453,
          173.50999450683594,
          173.5032958984375,
          173.52999877929688,
          173.5050048828125,
          173.52999877929688,
          173.60000610351562,
          173.68499755859375,
          173.85000610351562,
          173.94000244140625,
          173.99000549316406,
          173.97999572753906,
          173.99000549316406,
          174.05999755859375,
          174.0500030517578,
          174.05999755859375,
          174.125,
          174.17320251464844,
          174.22500610351562,
          174.17999267578125,
          174.27999877929688,
          174.36500549316406,
          174.2100067138672,
          174.24000549316406,
          174.16000366210938,
          174.24000549316406,
          174.2050018310547,
          174.1999969482422,
          174.1750030517578,
          174.1300048828125,
          174.1302032470703,
          174.21299743652344,
          174.25,
          174.24000549316406,
          174.2449951171875,
          174.2449951171875,
          174.27999877929688,
          174.22999572753906,
          174.24000549316406,
          174.24000549316406,
          174.3300018310547,
          174.26499938964844,
          174.3000030517578,
          174.38999938964844,
          174.44500732421875,
          174.48500061035156,
          174.38999938964844,
          174.39500427246094,
          174.39500427246094,
          174.49000549316406,
          174.49000549316406,
          174.38999938964844,
          174.4600067138672,
          174.50999450683594,
          174.5050048828125,
          174.4550018310547,
          174.5,
          174.5,
          174.50999450683594,
          174.50999450683594,
          174.5399932861328,
          174.57000732421875,
          174.60499572753906,
          174.65499877929688,
          174.7050018310547,
          174.7449951171875,
          174.7449951171875,
          174.7449951171875,
          174.74000549316406,
          174.82000732421875,
          174.83999633789062,
          174.8699951171875,
          174.8699951171875
         ],
         "name": "OHLC",
         "open": [
          171.22000122070312,
          171.59500122070312,
          171.2100067138672,
          170.96499633789062,
          171.05999755859375,
          171.14999389648438,
          171.02000427246094,
          171.14999389648438,
          171.03990173339844,
          170.86000061035156,
          171.01499938964844,
          170.97000122070312,
          170.8000030517578,
          170.75999450683594,
          170.8300018310547,
          170.7949981689453,
          170.8560028076172,
          170.67999267578125,
          170.72000122070312,
          170.77000427246094,
          170.8300018310547,
          170.7100067138672,
          170.90499877929688,
          171.10000610351562,
          171.13600158691406,
          171.25990295410156,
          171.32000732421875,
          171.33999633789062,
          171.40499877929688,
          171.63999938964844,
          171.77000427246094,
          171.89999389648438,
          172.11000061035156,
          172.59500122070312,
          172.6195068359375,
          172.743896484375,
          172.8289031982422,
          172.91250610351562,
          173.0850067138672,
          173.39999389648438,
          173.2899932861328,
          173.08999633789062,
          173.32989501953125,
          173.30499267578125,
          173.11000061035156,
          173.36000061035156,
          173.30999755859375,
          173.125,
          173.05999755859375,
          173.13999938964844,
          173.08999633789062,
          173.0399932861328,
          173.0399932861328,
          173.0399932861328,
          172.9199981689453,
          172.9250030517578,
          172.83999633789062,
          172.89999389648438,
          172.86500549316406,
          172.625,
          172.6750030517578,
          172.67300415039062,
          172.8560028076172,
          173.00999450683594,
          173.3000030517578,
          173.4600067138672,
          173.6300048828125,
          173.67999267578125,
          173.56500244140625,
          173.6999053955078,
          173.67999267578125,
          173.94979858398438,
          173.5800018310547,
          173.5800018310547,
          173.5601043701172,
          173.3300018310547,
          173.2799072265625,
          173.389892578125,
          173.06500244140625,
          173.1699981689453,
          173.46800231933594,
          173.47999572753906,
          173.3300018310547,
          173.38499450683594,
          173.53500366210938,
          173.4199981689453,
          173.60000610351562,
          173.5399932861328,
          173.5399932861328,
          173.60499572753906,
          173.58999633789062,
          173.75,
          173.69000244140625,
          173.875,
          173.99000549316406,
          174.01400756835938,
          174.07000732421875,
          174.02999877929688,
          174.15499877929688,
          174.10000610351562,
          174.11000061035156,
          174.15499877929688,
          174.22000122070312,
          174.31500244140625,
          174.25,
          174.30799865722656,
          174.3699951171875,
          174.47799682617188,
          174.4499969482422,
          174.24000549316406,
          174.27999877929688,
          174.2812042236328,
          174.2270965576172,
          174.27499389648438,
          174.22500610351562,
          174.1302032470703,
          174.21299743652344,
          174.26499938964844,
          174.27000427246094,
          174.27999877929688,
          174.27499389648438,
          174.3000030517578,
          174.35000610351562,
          174.25,
          174.27000427246094,
          174.3502960205078,
          174.36000061035156,
          174.3000030517578,
          174.39999389648438,
          174.44749450683594,
          174.6300048828125,
          174.56500244140625,
          174.47500610351562,
          174.40989685058594,
          174.5,
          174.52000427246094,
          174.5050048828125,
          174.46499633789062,
          174.5449981689453,
          174.5449981689453,
          174.51600646972656,
          174.5050048828125,
          174.5050048828125,
          174.52999877929688,
          174.52499389648438,
          174.55499267578125,
          174.5749969482422,
          174.625,
          174.6750030517578,
          174.7449951171875,
          174.77499389648438,
          174.7550048828125,
          174.7550048828125,
          174.75,
          174.83990478515625,
          174.84500122070312,
          174.9149932861328,
          174.8699951171875
         ],
         "type": "candlestick",
         "x": [
          "2024-02-09T14:30:00+00:00",
          "2024-02-09T14:32:00+00:00",
          "2024-02-09T14:34:00+00:00",
          "2024-02-09T14:36:00+00:00",
          "2024-02-09T14:38:00+00:00",
          "2024-02-09T14:40:00+00:00",
          "2024-02-09T14:42:00+00:00",
          "2024-02-09T14:44:00+00:00",
          "2024-02-09T14:46:00+00:00",
          "2024-02-09T14:48:00+00:00",
          "2024-02-09T14:50:00+00:00",
          "2024-02-09T14:52:00+00:00",
          "2024-02-09T14:54:00+00:00",
          "2024-02-09T14:56:00+00:00",
          "2024-02-09T14:58:00+00:00",
          "2024-02-09T15:00:00+00:00",
          "2024-02-09T15:02:00+00:00",
          "2024-02-09T15:04:00+00:00",
          "2024-02-09T15:06:00+00:00",
          "2024-02-09T15:08:00+00:00",
          "2024-02-09T15:10:00+00:00",
          "2024-02-09T15:12:00+00:00",
          "2024-02-09T15:14:00+00:00",
          "2024-02-09T15:16:00+00:00",
          "2024-02-09T15:18:00+00:00",
          "2024-02-09T15:20:00+00:00",
          "2024-02-09T15:22:00+00:00",
          "2024-02-09T15:24:00+00:00",
          "2024-02-09T15:26:00+00:00",
          "2024-02-09T15:28:00+00:00",
          "2024-02-09T15:30:00+00:00",
          "2024-02-09T15:32:00+00:00",
          "2024-02-09T15:34:00+00:00",
          "2024-02-09T15:36:00+00:00",
          "2024-02-09T15:38:00+00:00",
          "2024-02-09T15:40:00+00:00",
          "2024-02-09T15:42:00+00:00",
          "2024-02-09T15:44:00+00:00",
          "2024-02-09T15:46:00+00:00",
          "2024-02-09T15:48:00+00:00",
          "2024-02-09T15:50:00+00:00",
          "2024-02-09T15:52:00+00:00",
          "2024-02-09T15:54:00+00:00",
          "2024-02-09T15:56:00+00:00",
          "2024-02-09T15:58:00+00:00",
          "2024-02-09T16:00:00+00:00",
          "2024-02-09T16:02:00+00:00",
          "2024-02-09T16:04:00+00:00",
          "2024-02-09T16:06:00+00:00",
          "2024-02-09T16:08:00+00:00",
          "2024-02-09T16:10:00+00:00",
          "2024-02-09T16:12:00+00:00",
          "2024-02-09T16:14:00+00:00",
          "2024-02-09T16:16:00+00:00",
          "2024-02-09T16:18:00+00:00",
          "2024-02-09T16:20:00+00:00",
          "2024-02-09T16:22:00+00:00",
          "2024-02-09T16:24:00+00:00",
          "2024-02-09T16:26:00+00:00",
          "2024-02-09T16:28:00+00:00",
          "2024-02-09T16:30:00+00:00",
          "2024-02-09T16:32:00+00:00",
          "2024-02-09T16:34:00+00:00",
          "2024-02-09T16:36:00+00:00",
          "2024-02-09T16:38:00+00:00",
          "2024-02-09T16:40:00+00:00",
          "2024-02-09T16:42:00+00:00",
          "2024-02-09T16:44:00+00:00",
          "2024-02-09T16:46:00+00:00",
          "2024-02-09T16:48:00+00:00",
          "2024-02-09T16:50:00+00:00",
          "2024-02-09T16:52:00+00:00",
          "2024-02-09T16:54:00+00:00",
          "2024-02-09T16:56:00+00:00",
          "2024-02-09T16:58:00+00:00",
          "2024-02-09T17:00:00+00:00",
          "2024-02-09T17:02:00+00:00",
          "2024-02-09T17:04:00+00:00",
          "2024-02-09T17:06:00+00:00",
          "2024-02-09T17:08:00+00:00",
          "2024-02-09T17:10:00+00:00",
          "2024-02-09T17:12:00+00:00",
          "2024-02-09T17:14:00+00:00",
          "2024-02-09T17:16:00+00:00",
          "2024-02-09T17:18:00+00:00",
          "2024-02-09T17:20:00+00:00",
          "2024-02-09T17:22:00+00:00",
          "2024-02-09T17:24:00+00:00",
          "2024-02-09T17:26:00+00:00",
          "2024-02-09T17:28:00+00:00",
          "2024-02-09T17:30:00+00:00",
          "2024-02-09T17:32:00+00:00",
          "2024-02-09T17:34:00+00:00",
          "2024-02-09T17:36:00+00:00",
          "2024-02-09T17:38:00+00:00",
          "2024-02-09T17:40:00+00:00",
          "2024-02-09T17:42:00+00:00",
          "2024-02-09T17:44:00+00:00",
          "2024-02-09T17:46:00+00:00",
          "2024-02-09T17:48:00+00:00",
          "2024-02-09T17:50:00+00:00",
          "2024-02-09T17:52:00+00:00",
          "2024-02-09T17:54:00+00:00",
          "2024-02-09T17:56:00+00:00",
          "2024-02-09T17:58:00+00:00",
          "2024-02-09T18:00:00+00:00",
          "2024-02-09T18:02:00+00:00",
          "2024-02-09T18:04:00+00:00",
          "2024-02-09T18:06:00+00:00",
          "2024-02-09T18:08:00+00:00",
          "2024-02-09T18:10:00+00:00",
          "2024-02-09T18:12:00+00:00",
          "2024-02-09T18:14:00+00:00",
          "2024-02-09T18:16:00+00:00",
          "2024-02-09T18:18:00+00:00",
          "2024-02-09T18:20:00+00:00",
          "2024-02-09T18:22:00+00:00",
          "2024-02-09T18:24:00+00:00",
          "2024-02-09T18:26:00+00:00",
          "2024-02-09T18:28:00+00:00",
          "2024-02-09T18:30:00+00:00",
          "2024-02-09T18:32:00+00:00",
          "2024-02-09T18:34:00+00:00",
          "2024-02-09T18:36:00+00:00",
          "2024-02-09T18:38:00+00:00",
          "2024-02-09T18:40:00+00:00",
          "2024-02-09T18:42:00+00:00",
          "2024-02-09T18:44:00+00:00",
          "2024-02-09T18:46:00+00:00",
          "2024-02-09T18:48:00+00:00",
          "2024-02-09T18:50:00+00:00",
          "2024-02-09T18:52:00+00:00",
          "2024-02-09T18:54:00+00:00",
          "2024-02-09T18:56:00+00:00",
          "2024-02-09T18:58:00+00:00",
          "2024-02-09T19:00:00+00:00",
          "2024-02-09T19:02:00+00:00",
          "2024-02-09T19:04:00+00:00",
          "2024-02-09T19:06:00+00:00",
          "2024-02-09T19:08:00+00:00",
          "2024-02-09T19:10:00+00:00",
          "2024-02-09T19:12:00+00:00",
          "2024-02-09T19:14:00+00:00",
          "2024-02-09T19:16:00+00:00",
          "2024-02-09T19:18:00+00:00",
          "2024-02-09T19:20:00+00:00",
          "2024-02-09T19:22:00+00:00",
          "2024-02-09T19:24:00+00:00",
          "2024-02-09T19:26:00+00:00",
          "2024-02-09T19:28:00+00:00",
          "2024-02-09T19:30:00+00:00",
          "2024-02-09T19:32:00+00:00",
          "2024-02-09T19:34:00+00:00",
          "2024-02-09T19:36:00+00:00",
          "2024-02-09T19:38:00+00:00",
          "2024-02-09T19:40:00+00:00",
          "2024-02-09T19:42:00+00:00",
          "2024-02-09T19:44:00+00:00"
         ]
        }
       ],
       "layout": {
        "height": 800,
        "legend": {
         "font": {
          "color": "rgba(230,230,230,1)"
         }
        },
        "paper_bgcolor": "rgba(70,70,70,1)",
        "plot_bgcolor": "rgba(230,230,230,1)",
        "shapes": [
         {
          "line": {
           "color": "black",
           "width": 3
          },
          "type": "rect",
          "x0": 0,
          "x1": 1,
          "xref": "paper",
          "y0": 0,
          "y1": 1,
          "yref": "paper"
         }
        ],
        "template": {
         "data": {
          "bar": [
           {
            "error_x": {
             "color": "#2a3f5f"
            },
            "error_y": {
             "color": "#2a3f5f"
            },
            "marker": {
             "line": {
              "color": "#E5ECF6",
              "width": 0.5
             },
             "pattern": {
              "fillmode": "overlay",
              "size": 10,
              "solidity": 0.2
             }
            },
            "type": "bar"
           }
          ],
          "barpolar": [
           {
            "marker": {
             "line": {
              "color": "#E5ECF6",
              "width": 0.5
             },
             "pattern": {
              "fillmode": "overlay",
              "size": 10,
              "solidity": 0.2
             }
            },
            "type": "barpolar"
           }
          ],
          "carpet": [
           {
            "aaxis": {
             "endlinecolor": "#2a3f5f",
             "gridcolor": "white",
             "linecolor": "white",
             "minorgridcolor": "white",
             "startlinecolor": "#2a3f5f"
            },
            "baxis": {
             "endlinecolor": "#2a3f5f",
             "gridcolor": "white",
             "linecolor": "white",
             "minorgridcolor": "white",
             "startlinecolor": "#2a3f5f"
            },
            "type": "carpet"
           }
          ],
          "choropleth": [
           {
            "colorbar": {
             "outlinewidth": 0,
             "ticks": ""
            },
            "type": "choropleth"
           }
          ],
          "contour": [
           {
            "colorbar": {
             "outlinewidth": 0,
             "ticks": ""
            },
            "colorscale": [
             [
              0,
              "#0d0887"
             ],
             [
              0.1111111111111111,
              "#46039f"
             ],
             [
              0.2222222222222222,
              "#7201a8"
             ],
             [
              0.3333333333333333,
              "#9c179e"
             ],
             [
              0.4444444444444444,
              "#bd3786"
             ],
             [
              0.5555555555555556,
              "#d8576b"
             ],
             [
              0.6666666666666666,
              "#ed7953"
             ],
             [
              0.7777777777777778,
              "#fb9f3a"
             ],
             [
              0.8888888888888888,
              "#fdca26"
             ],
             [
              1,
              "#f0f921"
             ]
            ],
            "type": "contour"
           }
          ],
          "contourcarpet": [
           {
            "colorbar": {
             "outlinewidth": 0,
             "ticks": ""
            },
            "type": "contourcarpet"
           }
          ],
          "heatmap": [
           {
            "colorbar": {
             "outlinewidth": 0,
             "ticks": ""
            },
            "colorscale": [
             [
              0,
              "#0d0887"
             ],
             [
              0.1111111111111111,
              "#46039f"
             ],
             [
              0.2222222222222222,
              "#7201a8"
             ],
             [
              0.3333333333333333,
              "#9c179e"
             ],
             [
              0.4444444444444444,
              "#bd3786"
             ],
             [
              0.5555555555555556,
              "#d8576b"
             ],
             [
              0.6666666666666666,
              "#ed7953"
             ],
             [
              0.7777777777777778,
              "#fb9f3a"
             ],
             [
              0.8888888888888888,
              "#fdca26"
             ],
             [
              1,
              "#f0f921"
             ]
            ],
            "type": "heatmap"
           }
          ],
          "heatmapgl": [
           {
            "colorbar": {
             "outlinewidth": 0,
             "ticks": ""
            },
            "colorscale": [
             [
              0,
              "#0d0887"
             ],
             [
              0.1111111111111111,
              "#46039f"
             ],
             [
              0.2222222222222222,
              "#7201a8"
             ],
             [
              0.3333333333333333,
              "#9c179e"
             ],
             [
              0.4444444444444444,
              "#bd3786"
             ],
             [
              0.5555555555555556,
              "#d8576b"
             ],
             [
              0.6666666666666666,
              "#ed7953"
             ],
             [
              0.7777777777777778,
              "#fb9f3a"
             ],
             [
              0.8888888888888888,
              "#fdca26"
             ],
             [
              1,
              "#f0f921"
             ]
            ],
            "type": "heatmapgl"
           }
          ],
          "histogram": [
           {
            "marker": {
             "pattern": {
              "fillmode": "overlay",
              "size": 10,
              "solidity": 0.2
             }
            },
            "type": "histogram"
           }
          ],
          "histogram2d": [
           {
            "colorbar": {
             "outlinewidth": 0,
             "ticks": ""
            },
            "colorscale": [
             [
              0,
              "#0d0887"
             ],
             [
              0.1111111111111111,
              "#46039f"
             ],
             [
              0.2222222222222222,
              "#7201a8"
             ],
             [
              0.3333333333333333,
              "#9c179e"
             ],
             [
              0.4444444444444444,
              "#bd3786"
             ],
             [
              0.5555555555555556,
              "#d8576b"
             ],
             [
              0.6666666666666666,
              "#ed7953"
             ],
             [
              0.7777777777777778,
              "#fb9f3a"
             ],
             [
              0.8888888888888888,
              "#fdca26"
             ],
             [
              1,
              "#f0f921"
             ]
            ],
            "type": "histogram2d"
           }
          ],
          "histogram2dcontour": [
           {
            "colorbar": {
             "outlinewidth": 0,
             "ticks": ""
            },
            "colorscale": [
             [
              0,
              "#0d0887"
             ],
             [
              0.1111111111111111,
              "#46039f"
             ],
             [
              0.2222222222222222,
              "#7201a8"
             ],
             [
              0.3333333333333333,
              "#9c179e"
             ],
             [
              0.4444444444444444,
              "#bd3786"
             ],
             [
              0.5555555555555556,
              "#d8576b"
             ],
             [
              0.6666666666666666,
              "#ed7953"
             ],
             [
              0.7777777777777778,
              "#fb9f3a"
             ],
             [
              0.8888888888888888,
              "#fdca26"
             ],
             [
              1,
              "#f0f921"
             ]
            ],
            "type": "histogram2dcontour"
           }
          ],
          "mesh3d": [
           {
            "colorbar": {
             "outlinewidth": 0,
             "ticks": ""
            },
            "type": "mesh3d"
           }
          ],
          "parcoords": [
           {
            "line": {
             "colorbar": {
              "outlinewidth": 0,
              "ticks": ""
             }
            },
            "type": "parcoords"
           }
          ],
          "pie": [
           {
            "automargin": true,
            "type": "pie"
           }
          ],
          "scatter": [
           {
            "fillpattern": {
             "fillmode": "overlay",
             "size": 10,
             "solidity": 0.2
            },
            "type": "scatter"
           }
          ],
          "scatter3d": [
           {
            "line": {
             "colorbar": {
              "outlinewidth": 0,
              "ticks": ""
             }
            },
            "marker": {
             "colorbar": {
              "outlinewidth": 0,
              "ticks": ""
             }
            },
            "type": "scatter3d"
           }
          ],
          "scattercarpet": [
           {
            "marker": {
             "colorbar": {
              "outlinewidth": 0,
              "ticks": ""
             }
            },
            "type": "scattercarpet"
           }
          ],
          "scattergeo": [
           {
            "marker": {
             "colorbar": {
              "outlinewidth": 0,
              "ticks": ""
             }
            },
            "type": "scattergeo"
           }
          ],
          "scattergl": [
           {
            "marker": {
             "colorbar": {
              "outlinewidth": 0,
              "ticks": ""
             }
            },
            "type": "scattergl"
           }
          ],
          "scattermapbox": [
           {
            "marker": {
             "colorbar": {
              "outlinewidth": 0,
              "ticks": ""
             }
            },
            "type": "scattermapbox"
           }
          ],
          "scatterpolar": [
           {
            "marker": {
             "colorbar": {
              "outlinewidth": 0,
              "ticks": ""
             }
            },
            "type": "scatterpolar"
           }
          ],
          "scatterpolargl": [
           {
            "marker": {
             "colorbar": {
              "outlinewidth": 0,
              "ticks": ""
             }
            },
            "type": "scatterpolargl"
           }
          ],
          "scatterternary": [
           {
            "marker": {
             "colorbar": {
              "outlinewidth": 0,
              "ticks": ""
             }
            },
            "type": "scatterternary"
           }
          ],
          "surface": [
           {
            "colorbar": {
             "outlinewidth": 0,
             "ticks": ""
            },
            "colorscale": [
             [
              0,
              "#0d0887"
             ],
             [
              0.1111111111111111,
              "#46039f"
             ],
             [
              0.2222222222222222,
              "#7201a8"
             ],
             [
              0.3333333333333333,
              "#9c179e"
             ],
             [
              0.4444444444444444,
              "#bd3786"
             ],
             [
              0.5555555555555556,
              "#d8576b"
             ],
             [
              0.6666666666666666,
              "#ed7953"
             ],
             [
              0.7777777777777778,
              "#fb9f3a"
             ],
             [
              0.8888888888888888,
              "#fdca26"
             ],
             [
              1,
              "#f0f921"
             ]
            ],
            "type": "surface"
           }
          ],
          "table": [
           {
            "cells": {
             "fill": {
              "color": "#EBF0F8"
             },
             "line": {
              "color": "white"
             }
            },
            "header": {
             "fill": {
              "color": "#C8D4E3"
             },
             "line": {
              "color": "white"
             }
            },
            "type": "table"
           }
          ]
         },
         "layout": {
          "annotationdefaults": {
           "arrowcolor": "#2a3f5f",
           "arrowhead": 0,
           "arrowwidth": 1
          },
          "autotypenumbers": "strict",
          "coloraxis": {
           "colorbar": {
            "outlinewidth": 0,
            "ticks": ""
           }
          },
          "colorscale": {
           "diverging": [
            [
             0,
             "#8e0152"
            ],
            [
             0.1,
             "#c51b7d"
            ],
            [
             0.2,
             "#de77ae"
            ],
            [
             0.3,
             "#f1b6da"
            ],
            [
             0.4,
             "#fde0ef"
            ],
            [
             0.5,
             "#f7f7f7"
            ],
            [
             0.6,
             "#e6f5d0"
            ],
            [
             0.7,
             "#b8e186"
            ],
            [
             0.8,
             "#7fbc41"
            ],
            [
             0.9,
             "#4d9221"
            ],
            [
             1,
             "#276419"
            ]
           ],
           "sequential": [
            [
             0,
             "#0d0887"
            ],
            [
             0.1111111111111111,
             "#46039f"
            ],
            [
             0.2222222222222222,
             "#7201a8"
            ],
            [
             0.3333333333333333,
             "#9c179e"
            ],
            [
             0.4444444444444444,
             "#bd3786"
            ],
            [
             0.5555555555555556,
             "#d8576b"
            ],
            [
             0.6666666666666666,
             "#ed7953"
            ],
            [
             0.7777777777777778,
             "#fb9f3a"
            ],
            [
             0.8888888888888888,
             "#fdca26"
            ],
            [
             1,
             "#f0f921"
            ]
           ],
           "sequentialminus": [
            [
             0,
             "#0d0887"
            ],
            [
             0.1111111111111111,
             "#46039f"
            ],
            [
             0.2222222222222222,
             "#7201a8"
            ],
            [
             0.3333333333333333,
             "#9c179e"
            ],
            [
             0.4444444444444444,
             "#bd3786"
            ],
            [
             0.5555555555555556,
             "#d8576b"
            ],
            [
             0.6666666666666666,
             "#ed7953"
            ],
            [
             0.7777777777777778,
             "#fb9f3a"
            ],
            [
             0.8888888888888888,
             "#fdca26"
            ],
            [
             1,
             "#f0f921"
            ]
           ]
          },
          "colorway": [
           "#636efa",
           "#EF553B",
           "#00cc96",
           "#ab63fa",
           "#FFA15A",
           "#19d3f3",
           "#FF6692",
           "#B6E880",
           "#FF97FF",
           "#FECB52"
          ],
          "font": {
           "color": "#2a3f5f"
          },
          "geo": {
           "bgcolor": "white",
           "lakecolor": "white",
           "landcolor": "#E5ECF6",
           "showlakes": true,
           "showland": true,
           "subunitcolor": "white"
          },
          "hoverlabel": {
           "align": "left"
          },
          "hovermode": "closest",
          "mapbox": {
           "style": "light"
          },
          "paper_bgcolor": "white",
          "plot_bgcolor": "#E5ECF6",
          "polar": {
           "angularaxis": {
            "gridcolor": "white",
            "linecolor": "white",
            "ticks": ""
           },
           "bgcolor": "#E5ECF6",
           "radialaxis": {
            "gridcolor": "white",
            "linecolor": "white",
            "ticks": ""
           }
          },
          "scene": {
           "xaxis": {
            "backgroundcolor": "#E5ECF6",
            "gridcolor": "white",
            "gridwidth": 2,
            "linecolor": "white",
            "showbackground": true,
            "ticks": "",
            "zerolinecolor": "white"
           },
           "yaxis": {
            "backgroundcolor": "#E5ECF6",
            "gridcolor": "white",
            "gridwidth": 2,
            "linecolor": "white",
            "showbackground": true,
            "ticks": "",
            "zerolinecolor": "white"
           },
           "zaxis": {
            "backgroundcolor": "#E5ECF6",
            "gridcolor": "white",
            "gridwidth": 2,
            "linecolor": "white",
            "showbackground": true,
            "ticks": "",
            "zerolinecolor": "white"
           }
          },
          "shapedefaults": {
           "line": {
            "color": "#2a3f5f"
           }
          },
          "ternary": {
           "aaxis": {
            "gridcolor": "white",
            "linecolor": "white",
            "ticks": ""
           },
           "baxis": {
            "gridcolor": "white",
            "linecolor": "white",
            "ticks": ""
           },
           "bgcolor": "#E5ECF6",
           "caxis": {
            "gridcolor": "white",
            "linecolor": "white",
            "ticks": ""
           }
          },
          "title": {
           "x": 0.05
          },
          "xaxis": {
           "automargin": true,
           "gridcolor": "white",
           "linecolor": "white",
           "ticks": "",
           "title": {
            "standoff": 15
           },
           "zerolinecolor": "white",
           "zerolinewidth": 2
          },
          "yaxis": {
           "automargin": true,
           "gridcolor": "white",
           "linecolor": "white",
           "ticks": "",
           "title": {
            "standoff": 15
           },
           "zerolinecolor": "white",
           "zerolinewidth": 2
          }
         }
        },
        "xaxis": {
         "gridcolor": "rgba(0,0,0,0.1)",
         "gridwidth": 2,
         "rangeslider": {
          "visible": false
         },
         "tickfont": {
          "color": "white"
         },
         "title": {
          "font": {
           "color": "white"
          },
          "text": "Date & Time"
         }
        },
        "yaxis": {
         "gridcolor": "rgba(0,0,0,0.1)",
         "gridwidth": 2,
         "tickfont": {
          "color": "rgba(230,230,230,1)"
         },
         "title": {
          "font": {
           "color": "rgba(230,230,230,1)"
          },
          "text": "Price"
         }
        }
       }
      }
     },
     "metadata": {},
     "output_type": "display_data"
    }
   ],
   "source": [
    "AMZN_fig = AMZN_Bot.Plotting(interval=\"2m\")"
   ]
  }
 ],
 "metadata": {
  "kernelspec": {
   "display_name": "Venv",
   "language": "python",
   "name": "python3"
  },
  "language_info": {
   "codemirror_mode": {
    "name": "ipython",
    "version": 3
   },
   "file_extension": ".py",
   "mimetype": "text/x-python",
   "name": "python",
   "nbconvert_exporter": "python",
   "pygments_lexer": "ipython3",
   "version": "3.10.11"
  }
 },
 "nbformat": 4,
 "nbformat_minor": 2
}
